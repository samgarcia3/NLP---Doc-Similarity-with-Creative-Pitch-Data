{
 "cells": [
  {
   "cell_type": "markdown",
   "metadata": {},
   "source": [
    "# Bumper "
   ]
  },
  {
   "cell_type": "code",
   "execution_count": 1,
   "metadata": {},
   "outputs": [],
   "source": [
    "# Basics\n",
    "import pandas as pd\n",
    "import numpy as np\n",
    "import matplotlib.pyplot as plt\n",
    "import seaborn as sns\n",
    "from scipy.stats import norm\n",
    "from scipy import stats\n",
    "\n",
    "# Keybert\n",
    "from keybert import KeyBERT"
   ]
  },
  {
   "cell_type": "code",
   "execution_count": 2,
   "metadata": {},
   "outputs": [],
   "source": [
    "doc = \"\"\"\n",
    "         Supervised learning is the machine learning task of learning a function that\n",
    "         maps an input to an output based on example input-output pairs. It infers a\n",
    "         function from labeled training data consisting of a set of training examples.\n",
    "         In supervised learning, each example is a pair consisting of an input object\n",
    "         (typically a vector) and a desired output value (also called the supervisory signal). \n",
    "         A supervised learning algorithm analyzes the training data and produces an inferred function, \n",
    "         which can be used for mapping new examples. An optimal scenario will allow for the \n",
    "         algorithm to correctly determine the class labels for unseen instances. This requires \n",
    "         the learning algorithm to generalize from the training data to unseen situations in a \n",
    "         'reasonable' way (see inductive bias).\n",
    "      \"\"\"\n",
    "kw_model = KeyBERT()\n",
    "keywords = kw_model.extract_keywords(doc)"
   ]
  },
  {
   "cell_type": "code",
   "execution_count": 3,
   "metadata": {},
   "outputs": [
    {
     "data": {
      "text/plain": [
       "[('learning', 0.4604),\n",
       " ('algorithm', 0.4556),\n",
       " ('training', 0.4487),\n",
       " ('class', 0.4086),\n",
       " ('mapping', 0.37)]"
      ]
     },
     "execution_count": 3,
     "metadata": {},
     "output_type": "execute_result"
    }
   ],
   "source": [
    "kw_model.extract_keywords(doc, keyphrase_ngram_range=(1, 1), stop_words=None)\n",
    "[('learning', 0.4604),\n",
    " ('algorithm', 0.4556),\n",
    " ('training', 0.4487),\n",
    " ('class', 0.4086),\n",
    " ('mapping', 0.3700)]"
   ]
  },
  {
   "cell_type": "code",
   "execution_count": 4,
   "metadata": {},
   "outputs": [
    {
     "data": {
      "text/plain": [
       "[('learning algorithm', 0.6978),\n",
       " ('machine learning', 0.6305),\n",
       " ('supervised learning', 0.5985),\n",
       " ('algorithm analyzes', 0.586),\n",
       " ('learning function', 0.585)]"
      ]
     },
     "execution_count": 4,
     "metadata": {},
     "output_type": "execute_result"
    }
   ],
   "source": [
    "kw_model.extract_keywords(doc, keyphrase_ngram_range=(1, 2), stop_words=None)\n",
    "[('learning algorithm', 0.6978),\n",
    " ('machine learning', 0.6305),\n",
    " ('supervised learning', 0.5985),\n",
    " ('algorithm analyzes', 0.5860),\n",
    " ('learning function', 0.5850)]"
   ]
  },
  {
   "cell_type": "code",
   "execution_count": 5,
   "metadata": {},
   "outputs": [
    {
     "data": {
      "text/html": [
       "<pre style=\"white-space:pre;overflow-x:auto;line-height:normal;font-family:Menlo,'DejaVu Sans Mono',consolas,'Courier New',monospace\"><span style=\"color: #000000; text-decoration-color: #000000; background-color: #ffff00\">Supervised</span> <span style=\"color: #000000; text-decoration-color: #000000; background-color: #ffff00\">learning</span> is the machine <span style=\"color: #000000; text-decoration-color: #000000; background-color: #ffff00\">learning</span> task of <span style=\"color: #000000; text-decoration-color: #000000; background-color: #ffff00\">learning</span> a function that maps an input to\n",
       "an output based on example input-output pairs. It infers a function from labeled <span style=\"color: #000000; text-decoration-color: #000000; background-color: #ffff00\">training</span> \n",
       "data consisting of a set of <span style=\"color: #000000; text-decoration-color: #000000; background-color: #ffff00\">training</span> examples. In <span style=\"color: #000000; text-decoration-color: #000000; background-color: #ffff00\">supervised</span> learning, each example is a pair\n",
       "consisting of an input object (typically a vector) and a desired output value (also called \n",
       "the supervisory signal). A <span style=\"color: #000000; text-decoration-color: #000000; background-color: #ffff00\">supervised</span> <span style=\"color: #000000; text-decoration-color: #000000; background-color: #ffff00\">learning</span> <span style=\"color: #000000; text-decoration-color: #000000; background-color: #ffff00\">algorithm</span> <span style=\"color: #000000; text-decoration-color: #000000; background-color: #ffff00\">analyzes</span> the <span style=\"color: #000000; text-decoration-color: #000000; background-color: #ffff00\">training</span> data and \n",
       "produces an inferred function, which can be used for mapping new examples. An optimal \n",
       "scenario will allow for the <span style=\"color: #000000; text-decoration-color: #000000; background-color: #ffff00\">algorithm</span> to correctly determine the class labels for unseen \n",
       "instances. This requires the <span style=\"color: #000000; text-decoration-color: #000000; background-color: #ffff00\">learning</span> <span style=\"color: #000000; text-decoration-color: #000000; background-color: #ffff00\">algorithm</span> to generalize from the <span style=\"color: #000000; text-decoration-color: #000000; background-color: #ffff00\">training</span> data to \n",
       "unseen situations in a 'reasonable' way (see inductive bias).\n",
       "</pre>\n"
      ],
      "text/plain": [
       "\u001b[30;48;2;255;255;0mSupervised\u001b[0m \u001b[30;48;2;255;255;0mlearning\u001b[0m is the machine \u001b[30;48;2;255;255;0mlearning\u001b[0m task of \u001b[30;48;2;255;255;0mlearning\u001b[0m a function that maps an input to\n",
       "an output based on example input-output pairs. It infers a function from labeled \u001b[30;48;2;255;255;0mtraining\u001b[0m \n",
       "data consisting of a set of \u001b[30;48;2;255;255;0mtraining\u001b[0m examples. In \u001b[30;48;2;255;255;0msupervised\u001b[0m learning, each example is a pair\n",
       "consisting of an input object (typically a vector) and a desired output value (also called \n",
       "the supervisory signal). A \u001b[30;48;2;255;255;0msupervised\u001b[0m \u001b[30;48;2;255;255;0mlearning\u001b[0m \u001b[30;48;2;255;255;0malgorithm\u001b[0m \u001b[30;48;2;255;255;0manalyzes\u001b[0m the \u001b[30;48;2;255;255;0mtraining\u001b[0m data and \n",
       "produces an inferred function, which can be used for mapping new examples. An optimal \n",
       "scenario will allow for the \u001b[30;48;2;255;255;0malgorithm\u001b[0m to correctly determine the class labels for unseen \n",
       "instances. This requires the \u001b[30;48;2;255;255;0mlearning\u001b[0m \u001b[30;48;2;255;255;0malgorithm\u001b[0m to generalize from the \u001b[30;48;2;255;255;0mtraining\u001b[0m data to \n",
       "unseen situations in a 'reasonable' way (see inductive bias).\n"
      ]
     },
     "metadata": {},
     "output_type": "display_data"
    }
   ],
   "source": [
    "keywords = kw_model.extract_keywords(doc, highlight=True)"
   ]
  },
  {
   "cell_type": "markdown",
   "metadata": {},
   "source": [
    "## Test with Kidscreen "
   ]
  },
  {
   "cell_type": "code",
   "execution_count": 6,
   "metadata": {},
   "outputs": [],
   "source": [
    "doc = \"\"\"\n",
    "        ABC Australia is looking to entertain and inspire the 4.4 million Australian children between two and 14 through a \n",
    "        mixed genre output of light entertainment, drama, comedy, preschool and factual, says head of children’s content Libbie Doherty. \n",
    "        ABC spans across free channels ABC Kids (two- to six-years-old) and ABC ME (six to 12s) and the VOD platform ABC iview, which \n",
    "        carries the broadcaster’s linear content, as well as exclusive kids content commissioned specifically for iview. Doherty primarily \n",
    "        develops content from Australian independent producers, and commissions to international producers are rare—but occasionally deals\n",
    "        will occur when an Australian producer is involved. For co-productions, Australia needs to be represented in the production, if not\n",
    "        also the story. The broadcaster’s catalogue should reflect the diverse and rich Australian identity, and help guide kids through \n",
    "        the big and small transitions of childhood, she says. It should also connect city and regional kids to each other and empower \n",
    "        children to speak up and participate within their communities. ABC is looking for content that fits six criteria: It should be \n",
    "        bold, brave and takes creative risks; it should always take an inclusive lens, giving children content that they can see \n",
    "        themselves in because it creates a sense of belonging in an expanding national identity; it should make the audience laugh\n",
    "        and remember to have fun; it should focus on accuracy while pushing the boundaries of stories and topics and balancing trust \n",
    "        and risk; it should experiment with new formats and approaches to content development; and it should feature diversity in \n",
    "        front of and behind the camera, with a focus on under-represented groups from culturally and linguistically diverse groups, \n",
    "        Indigenous and disabled communities, as well as building on the broadcaster’s 50/50 female cast and crew targets. In short, \n",
    "        the pubcasters wants shows with kind, big-hearted characters and epic locations, which also helps kids explore, investigate\n",
    "        and make sense of the world around them. This may seem like a very open content purview, but the pubcaster has focused on \n",
    "        building out its catalogue with inclusive content, including Epic Film’s live-action series First Day (four x 24-minutes), \n",
    "        about the transgender character Hannah as she copes with high school and transitioning into becoming a girl. One of the first\n",
    "        children’s series to explicitly follow the life of a transgender youth, First Day provides a clearer picture of the type of \n",
    "        content the broadcaster is looking for, Doherty says. On top of this, ABC is working to push the boundaries beyond typical \n",
    "        protagonists, and picked up Paper Owl Films’ animated series Pablo, which revolves around a five-year-old boy on the autism\n",
    "        spectrum who uses magical crayons to start adventures with the characters he creates. The channel has also filled its catalogue\n",
    "        with a variety of content across styles, including animated educational-focused series, including international \n",
    "        preschool-skewing titles Daniel Tiger’s Neighbourhood, The Day Henry Met... and Bing, mixed-media series Becca’s Bunch,\n",
    "        Dino Dana and live-action shows Molly and Mack and Detention Adventure. ABC children’s content is meant to build a life-long \n",
    "        connection to the bigger brand, and as a result, content for younger audiences needs to be crafted with an age-appropriate \n",
    "        pace and style, says Doherty. To reach a broader audience, Doherty is seeking content that features a range of production \n",
    "        techniques, including factual, drama, live-action, puppets, songs and animation, which balances learning with entertainment. \n",
    "        Productions for iview should experiment with storytelling and length, since they do not need to be constrained by traditional\n",
    "        broadcast schedules, she adds.\n",
    "\n",
    "      \"\"\"\n",
    "    \n",
    "kw_model_bumper = KeyBERT()\n",
    "keywords_bumper = kw_model.extract_keywords(doc)"
   ]
  },
  {
   "cell_type": "code",
   "execution_count": 7,
   "metadata": {},
   "outputs": [
    {
     "data": {
      "text/html": [
       "<pre style=\"white-space:pre;overflow-x:auto;line-height:normal;font-family:Menlo,'DejaVu Sans Mono',consolas,'Courier New',monospace\"><span style=\"color: #000000; text-decoration-color: #000000; background-color: #ffff00\">ABC</span> <span style=\"color: #000000; text-decoration-color: #000000; background-color: #ffff00\">Australia</span> is looking to entertain and inspire the 4.4 million <span style=\"color: #000000; text-decoration-color: #000000; background-color: #ffff00\">Australian</span> children between\n",
       "two and 14 through a mixed genre output of light entertainment, drama, comedy, preschool and \n",
       "factual, says head of children’s content Libbie Doherty. <span style=\"color: #000000; text-decoration-color: #000000; background-color: #ffff00\">ABC</span> spans across free channels <span style=\"color: #000000; text-decoration-color: #000000; background-color: #ffff00\">ABC</span> \n",
       "Kids (two- to six-years-old) and <span style=\"color: #000000; text-decoration-color: #000000; background-color: #ffff00\">ABC</span> ME (six to 12s) and the VOD platform <span style=\"color: #000000; text-decoration-color: #000000; background-color: #ffff00\">ABC</span> iview, which \n",
       "carries the broadcaster’s linear content, as well as exclusive kids content commissioned \n",
       "specifically for iview. <span style=\"color: #000000; text-decoration-color: #000000; background-color: #ffff00\">Doherty</span> primarily develops content from <span style=\"color: #000000; text-decoration-color: #000000; background-color: #ffff00\">Australian</span> independent \n",
       "producers, and commissions to international producers are rare—but occasionally deals will \n",
       "occur when an <span style=\"color: #000000; text-decoration-color: #000000; background-color: #ffff00\">Australian</span> producer is involved. For co-productions, <span style=\"color: #000000; text-decoration-color: #000000; background-color: #ffff00\">Australia</span> needs to be \n",
       "represented in the production, if not also the story. The broadcaster’s catalogue should \n",
       "reflect the diverse and rich <span style=\"color: #000000; text-decoration-color: #000000; background-color: #ffff00\">Australian</span> identity, and help guide kids through the big and \n",
       "small transitions of childhood, she says. It should also connect city and regional kids to \n",
       "each other and empower children to speak up and participate within their communities. <span style=\"color: #000000; text-decoration-color: #000000; background-color: #ffff00\">ABC</span> is \n",
       "looking for content that fits six criteria: It should be bold, brave and takes creative \n",
       "risks; it should always take an inclusive lens, giving children content that they can see \n",
       "themselves in because it creates a sense of belonging in an expanding national identity; it \n",
       "should make the audience laugh and remember to have fun; it should focus on accuracy while \n",
       "pushing the boundaries of stories and topics and balancing trust and risk; it should \n",
       "experiment with new formats and approaches to content development; and it should feature \n",
       "diversity in front of and behind the camera, with a focus on under-represented groups from \n",
       "culturally and linguistically diverse groups, Indigenous and disabled communities, as well as\n",
       "building on the broadcaster’s 50/50 female cast and crew targets. In short, the pubcasters \n",
       "wants shows with kind, big-hearted characters and epic locations, which also helps kids \n",
       "explore, investigate and make sense of the world around them. This may seem like a very open \n",
       "content purview, but the pubcaster has focused on building out its catalogue with inclusive \n",
       "content, including Epic Film’s live-action series First Day (four x 24-minutes), about the \n",
       "transgender character Hannah as she copes with high school and transitioning into becoming a \n",
       "girl. One of the first children’s series to explicitly follow the life of a transgender \n",
       "youth, First Day provides a clearer picture of the type of content the broadcaster is looking\n",
       "for, <span style=\"color: #000000; text-decoration-color: #000000; background-color: #ffff00\">Doherty</span> says. On top of this, <span style=\"color: #000000; text-decoration-color: #000000; background-color: #ffff00\">ABC</span> is working to push the boundaries beyond typical \n",
       "protagonists, and picked up Paper Owl Films’ animated series Pablo, which revolves around a \n",
       "five-year-old boy on the autism spectrum who uses magical crayons to start adventures with \n",
       "the characters he creates. The channel has also filled its catalogue with a variety of \n",
       "content across styles, including animated educational-focused series, including international\n",
       "preschool-skewing titles Daniel Tiger’s Neighbourhood, The Day Henry Met... and Bing, \n",
       "mixed-media series Becca’s Bunch, Dino Dana and live-action shows Molly and Mack and \n",
       "Detention Adventure. <span style=\"color: #000000; text-decoration-color: #000000; background-color: #ffff00\">ABC</span> children’s content is meant to build a life-long connection to the \n",
       "bigger brand, and as a result, content for younger audiences needs to be crafted with an \n",
       "age-appropriate pace and style, says Doherty. To reach a broader audience, <span style=\"color: #000000; text-decoration-color: #000000; background-color: #ffff00\">Doherty</span> is seeking\n",
       "content that features a range of production techniques, including factual, drama, \n",
       "live-action, puppets, songs and animation, which balances learning with entertainment. \n",
       "Productions for iview should experiment with storytelling and length, since they do not need \n",
       "to be constrained by traditional broadcast schedules, she adds.\n",
       "</pre>\n"
      ],
      "text/plain": [
       "\u001b[30;48;2;255;255;0mABC\u001b[0m \u001b[30;48;2;255;255;0mAustralia\u001b[0m is looking to entertain and inspire the 4.4 million \u001b[30;48;2;255;255;0mAustralian\u001b[0m children between\n",
       "two and 14 through a mixed genre output of light entertainment, drama, comedy, preschool and \n",
       "factual, says head of children’s content Libbie Doherty. \u001b[30;48;2;255;255;0mABC\u001b[0m spans across free channels \u001b[30;48;2;255;255;0mABC\u001b[0m \n",
       "Kids (two- to six-years-old) and \u001b[30;48;2;255;255;0mABC\u001b[0m ME (six to 12s) and the VOD platform \u001b[30;48;2;255;255;0mABC\u001b[0m iview, which \n",
       "carries the broadcaster’s linear content, as well as exclusive kids content commissioned \n",
       "specifically for iview. \u001b[30;48;2;255;255;0mDoherty\u001b[0m primarily develops content from \u001b[30;48;2;255;255;0mAustralian\u001b[0m independent \n",
       "producers, and commissions to international producers are rare—but occasionally deals will \n",
       "occur when an \u001b[30;48;2;255;255;0mAustralian\u001b[0m producer is involved. For co-productions, \u001b[30;48;2;255;255;0mAustralia\u001b[0m needs to be \n",
       "represented in the production, if not also the story. The broadcaster’s catalogue should \n",
       "reflect the diverse and rich \u001b[30;48;2;255;255;0mAustralian\u001b[0m identity, and help guide kids through the big and \n",
       "small transitions of childhood, she says. It should also connect city and regional kids to \n",
       "each other and empower children to speak up and participate within their communities. \u001b[30;48;2;255;255;0mABC\u001b[0m is \n",
       "looking for content that fits six criteria: It should be bold, brave and takes creative \n",
       "risks; it should always take an inclusive lens, giving children content that they can see \n",
       "themselves in because it creates a sense of belonging in an expanding national identity; it \n",
       "should make the audience laugh and remember to have fun; it should focus on accuracy while \n",
       "pushing the boundaries of stories and topics and balancing trust and risk; it should \n",
       "experiment with new formats and approaches to content development; and it should feature \n",
       "diversity in front of and behind the camera, with a focus on under-represented groups from \n",
       "culturally and linguistically diverse groups, Indigenous and disabled communities, as well as\n",
       "building on the broadcaster’s 50/50 female cast and crew targets. In short, the pubcasters \n",
       "wants shows with kind, big-hearted characters and epic locations, which also helps kids \n",
       "explore, investigate and make sense of the world around them. This may seem like a very open \n",
       "content purview, but the pubcaster has focused on building out its catalogue with inclusive \n",
       "content, including Epic Film’s live-action series First Day (four x 24-minutes), about the \n",
       "transgender character Hannah as she copes with high school and transitioning into becoming a \n",
       "girl. One of the first children’s series to explicitly follow the life of a transgender \n",
       "youth, First Day provides a clearer picture of the type of content the broadcaster is looking\n",
       "for, \u001b[30;48;2;255;255;0mDoherty\u001b[0m says. On top of this, \u001b[30;48;2;255;255;0mABC\u001b[0m is working to push the boundaries beyond typical \n",
       "protagonists, and picked up Paper Owl Films’ animated series Pablo, which revolves around a \n",
       "five-year-old boy on the autism spectrum who uses magical crayons to start adventures with \n",
       "the characters he creates. The channel has also filled its catalogue with a variety of \n",
       "content across styles, including animated educational-focused series, including international\n",
       "preschool-skewing titles Daniel Tiger’s Neighbourhood, The Day Henry Met... and Bing, \n",
       "mixed-media series Becca’s Bunch, Dino Dana and live-action shows Molly and Mack and \n",
       "Detention Adventure. \u001b[30;48;2;255;255;0mABC\u001b[0m children’s content is meant to build a life-long connection to the \n",
       "bigger brand, and as a result, content for younger audiences needs to be crafted with an \n",
       "age-appropriate pace and style, says Doherty. To reach a broader audience, \u001b[30;48;2;255;255;0mDoherty\u001b[0m is seeking\n",
       "content that features a range of production techniques, including factual, drama, \n",
       "live-action, puppets, songs and animation, which balances learning with entertainment. \n",
       "Productions for iview should experiment with storytelling and length, since they do not need \n",
       "to be constrained by traditional broadcast schedules, she adds.\n"
      ]
     },
     "metadata": {},
     "output_type": "display_data"
    }
   ],
   "source": [
    "bumper_keywords = kw_model_bumper.extract_keywords(doc, highlight=True)"
   ]
  },
  {
   "cell_type": "code",
   "execution_count": 8,
   "metadata": {},
   "outputs": [
    {
     "name": "stdout",
     "output_type": "stream",
     "text": [
      "CPU times: user 2.55 s, sys: 315 ms, total: 2.87 s\n",
      "Wall time: 1.88 s\n"
     ]
    },
    {
     "data": {
      "text/plain": [
       "[('abc children', 0.6575),\n",
       " ('abc kids', 0.651),\n",
       " ('doherty abc', 0.5979),\n",
       " ('abc australia', 0.595),\n",
       " ('australian children', 0.5533)]"
      ]
     },
     "execution_count": 8,
     "metadata": {},
     "output_type": "execute_result"
    }
   ],
   "source": [
    "%%time\n",
    "kw_model_bumper.extract_keywords(doc, keyphrase_ngram_range=(2, 2), stop_words=None)"
   ]
  },
  {
   "cell_type": "markdown",
   "metadata": {},
   "source": [
    "While running keyBERT on the initial \"looking for\" text, the keyBERT feature is presenting different iterations of the same word. For example if we take the above keyword extraction, we see that 'abc' is being presented multiple times as a keyword. For our purposes it is best to only obtain that keyword once and try to obtain the next highest keyword based on cosine similarity.\n",
    "<br>\n",
    "\n",
    "There are 2 ways *(that I know of)* we can combat the repetition of words such as 'abc':\n",
    "- 1. Max Sum Similarity\n",
    "- 2. Maximal Marginal Relevance"
   ]
  },
  {
   "cell_type": "markdown",
   "metadata": {},
   "source": [
    "## Max Sum Similarity"
   ]
  },
  {
   "cell_type": "markdown",
   "metadata": {},
   "source": [
    "To diversify the results, we take the 2 x  top_n most similar words/phrases to the document. Then, we take all top_n combinations from the 2 x top_n words and extract the combination that are the least similar to each other by cosine similarity."
   ]
  },
  {
   "cell_type": "code",
   "execution_count": 20,
   "metadata": {},
   "outputs": [
    {
     "name": "stdout",
     "output_type": "stream",
     "text": [
      "CPU times: user 1.54 s, sys: 305 ms, total: 1.85 s\n",
      "Wall time: 906 ms\n"
     ]
    },
    {
     "data": {
      "text/plain": [
       "[('media', 0.2074),\n",
       " ('preschool', 0.1554),\n",
       " ('entertain', 0.1979),\n",
       " ('australia', 0.1947),\n",
       " ('doherty', 0.4351)]"
      ]
     },
     "execution_count": 20,
     "metadata": {},
     "output_type": "execute_result"
    }
   ],
   "source": [
    "%%time\n",
    "kw_model_bumper.extract_keywords(doc, keyphrase_ngram_range=(1,1),stop_words='english',\n",
    "                        use_maxsum=True, nr_candidates=20, top_n=5)"
   ]
  },
  {
   "cell_type": "code",
   "execution_count": 21,
   "metadata": {},
   "outputs": [
    {
     "name": "stdout",
     "output_type": "stream",
     "text": [
      "CPU times: user 2.16 s, sys: 308 ms, total: 2.47 s\n",
      "Wall time: 1.44 s\n"
     ]
    },
    {
     "data": {
      "text/plain": [
       "[('libbie doherty', 0.227),\n",
       " ('productions australia', 0.5099),\n",
       " ('channels abc', 0.6575),\n",
       " ('comedy preschool', 0.5476),\n",
       " ('children content', 0.4949)]"
      ]
     },
     "execution_count": 21,
     "metadata": {},
     "output_type": "execute_result"
    }
   ],
   "source": [
    "%%time\n",
    "kw_model_bumper.extract_keywords(doc, keyphrase_ngram_range=(2,2),stop_words='english',\n",
    "                        use_maxsum=True, nr_candidates=20, top_n=5)"
   ]
  },
  {
   "cell_type": "markdown",
   "metadata": {},
   "source": [
    "## Maximal Marginal Relevance"
   ]
  },
  {
   "cell_type": "markdown",
   "metadata": {},
   "source": [
    "To diversify the results, we can use Macimal Margin Relevance (MMR) to create keywords/keyphrases which is also based on cosine similarity. The results with **High Diversity**:"
   ]
  },
  {
   "cell_type": "code",
   "execution_count": 19,
   "metadata": {},
   "outputs": [
    {
     "name": "stdout",
     "output_type": "stream",
     "text": [
      "CPU times: user 767 ms, sys: 21.3 ms, total: 789 ms\n",
      "Wall time: 735 ms\n"
     ]
    },
    {
     "data": {
      "text/plain": [
       "[('abc', 0.5578),\n",
       " ('youth', 0.3056),\n",
       " ('risks', 0.1195),\n",
       " ('range', 0.0917),\n",
       " ('carries', 0.0405)]"
      ]
     },
     "execution_count": 19,
     "metadata": {},
     "output_type": "execute_result"
    }
   ],
   "source": [
    "%%time\n",
    "kw_model_bumper.extract_keywords(doc, keyphrase_ngram_range=(1,1),stop_words='english',\n",
    "                        use_mmr=True, diversity=0.7)"
   ]
  },
  {
   "cell_type": "code",
   "execution_count": 22,
   "metadata": {},
   "outputs": [
    {
     "name": "stdout",
     "output_type": "stream",
     "text": [
      "CPU times: user 1.35 s, sys: 38.1 ms, total: 1.39 s\n",
      "Wall time: 1.29 s\n"
     ]
    },
    {
     "data": {
      "text/plain": [
       "[('abc children', 0.6575),\n",
       " ('vod platform', 0.2108),\n",
       " ('australian producer', 0.3831),\n",
       " ('life long', 0.1256),\n",
       " ('trust risk', 0.1554)]"
      ]
     },
     "execution_count": 22,
     "metadata": {},
     "output_type": "execute_result"
    }
   ],
   "source": [
    "%%time\n",
    "kw_model_bumper.extract_keywords(doc, keyphrase_ngram_range=(2,2),stop_words='english',\n",
    "                        use_mmr=True, diversity=0.7)"
   ]
  },
  {
   "cell_type": "markdown",
   "metadata": {},
   "source": [
    "Let's see the results with **Low Diversity**:"
   ]
  },
  {
   "cell_type": "code",
   "execution_count": 18,
   "metadata": {},
   "outputs": [
    {
     "name": "stdout",
     "output_type": "stream",
     "text": [
      "CPU times: user 777 ms, sys: 22.9 ms, total: 800 ms\n",
      "Wall time: 744 ms\n"
     ]
    },
    {
     "data": {
      "text/plain": [
       "[('abc', 0.5578),\n",
       " ('doherty', 0.4512),\n",
       " ('children', 0.3986),\n",
       " ('australian', 0.4351),\n",
       " ('entertain', 0.3991)]"
      ]
     },
     "execution_count": 18,
     "metadata": {},
     "output_type": "execute_result"
    }
   ],
   "source": [
    "%%time\n",
    "kw_model_bumper.extract_keywords(doc, keyphrase_ngram_range=(1,1),stop_words='english',\n",
    "                        use_mmr=True, diversity=0.2)"
   ]
  },
  {
   "cell_type": "code",
   "execution_count": 23,
   "metadata": {},
   "outputs": [
    {
     "name": "stdout",
     "output_type": "stream",
     "text": [
      "CPU times: user 1.34 s, sys: 36.1 ms, total: 1.37 s\n",
      "Wall time: 1.27 s\n"
     ]
    },
    {
     "data": {
      "text/plain": [
       "[('abc children', 0.6575),\n",
       " ('doherty abc', 0.5979),\n",
       " ('abc australia', 0.595),\n",
       " ('abc kids', 0.651),\n",
       " ('australian children', 0.5533)]"
      ]
     },
     "execution_count": 23,
     "metadata": {},
     "output_type": "execute_result"
    }
   ],
   "source": [
    "%%time\n",
    "kw_model_bumper.extract_keywords(doc, keyphrase_ngram_range=(2,2),stop_words='english',\n",
    "                        use_mmr=True, diversity=0.2)"
   ]
  },
  {
   "cell_type": "markdown",
   "metadata": {},
   "source": [
    "# Set Up KeyBERT to extract keywords from \"looking for\" database"
   ]
  },
  {
   "cell_type": "markdown",
   "metadata": {},
   "source": [
    "## Create csv file form txt "
   ]
  },
  {
   "cell_type": "code",
   "execution_count": 12,
   "metadata": {},
   "outputs": [],
   "source": [
    "# reading given csv file \n",
    "# and creating dataframe \n",
    "dataframe1 = pd.read_csv(\"data/v2.txt\") \n",
    "  \n",
    "# storing this dataframe in a csv file \n",
    "dataframe1.to_csv('Kidscreen_looking_for.csv',  \n",
    "                  index = None)"
   ]
  },
  {
   "cell_type": "code",
   "execution_count": 13,
   "metadata": {},
   "outputs": [
    {
     "data": {
      "text/html": [
       "<div>\n",
       "<style scoped>\n",
       "    .dataframe tbody tr th:only-of-type {\n",
       "        vertical-align: middle;\n",
       "    }\n",
       "\n",
       "    .dataframe tbody tr th {\n",
       "        vertical-align: top;\n",
       "    }\n",
       "\n",
       "    .dataframe thead th {\n",
       "        text-align: right;\n",
       "    }\n",
       "</style>\n",
       "<table border=\"1\" class=\"dataframe\">\n",
       "  <thead>\n",
       "    <tr style=\"text-align: right;\">\n",
       "      <th></th>\n",
       "      <th>name</th>\n",
       "      <th>looking_for</th>\n",
       "      <th>team</th>\n",
       "      <th>demographic</th>\n",
       "      <th>how_to_pitch</th>\n",
       "      <th>contact</th>\n",
       "      <th>commission</th>\n",
       "      <th>recent_acquisitions</th>\n",
       "      <th>Africa</th>\n",
       "      <th>Asia Pacific</th>\n",
       "      <th>...</th>\n",
       "      <th>8</th>\n",
       "      <th>9</th>\n",
       "      <th>10</th>\n",
       "      <th>11</th>\n",
       "      <th>12</th>\n",
       "      <th>13</th>\n",
       "      <th>14</th>\n",
       "      <th>15</th>\n",
       "      <th>16</th>\n",
       "      <th>17</th>\n",
       "    </tr>\n",
       "  </thead>\n",
       "  <tbody>\n",
       "    <tr>\n",
       "      <th>0</th>\n",
       "      <td>ABC Australia</td>\n",
       "      <td>ABC Australia is looking to entertain and insp...</td>\n",
       "      <td>Libbie DohertyHead of ABC's Children's Conten...</td>\n",
       "      <td>ABC Kids (2- to 6-years-old)\\rABC ME (6 to 12s...</td>\n",
       "      <td>Producers with fully completed projects should...</td>\n",
       "      <td>Children’s development and co-production manag...</td>\n",
       "      <td>Not Available</td>\n",
       "      <td>Kiri and Lou</td>\n",
       "      <td>0</td>\n",
       "      <td>1</td>\n",
       "      <td>...</td>\n",
       "      <td>1</td>\n",
       "      <td>1</td>\n",
       "      <td>1</td>\n",
       "      <td>1</td>\n",
       "      <td>1</td>\n",
       "      <td>1</td>\n",
       "      <td>1</td>\n",
       "      <td>0</td>\n",
       "      <td>0</td>\n",
       "      <td>0</td>\n",
       "    </tr>\n",
       "    <tr>\n",
       "      <th>1</th>\n",
       "      <td>Discovery Kids</td>\n",
       "      <td>Flavio Medeiros, director of programming and a...</td>\n",
       "      <td>Not Available</td>\n",
       "      <td>4 to 8</td>\n",
       "      <td>Pitches with a show description can be emailed...</td>\n",
       "      <td>Flavio_Medeiros@discovery.com</td>\n",
       "      <td>Not Available</td>\n",
       "      <td>Boonie BearsEsme &amp; RoySuper Dinosaur</td>\n",
       "      <td>0</td>\n",
       "      <td>0</td>\n",
       "      <td>...</td>\n",
       "      <td>1</td>\n",
       "      <td>0</td>\n",
       "      <td>0</td>\n",
       "      <td>0</td>\n",
       "      <td>0</td>\n",
       "      <td>0</td>\n",
       "      <td>0</td>\n",
       "      <td>0</td>\n",
       "      <td>0</td>\n",
       "      <td>0</td>\n",
       "    </tr>\n",
       "    <tr>\n",
       "      <th>2</th>\n",
       "      <td>Disney Channel</td>\n",
       "      <td>Disney is on the lookout for content that fits...</td>\n",
       "      <td>Elizabeth Waybright TaylorDirector of Develop...</td>\n",
       "      <td>6 to 11 years old, with a skew towards girls</td>\n",
       "      <td>Disney TVA does not accept unsolicited materia...</td>\n",
       "      <td>Not Available</td>\n",
       "      <td>Not Available</td>\n",
       "      <td>Miraculous: Tales of Ladybug and Cat Noir</td>\n",
       "      <td>0</td>\n",
       "      <td>0</td>\n",
       "      <td>...</td>\n",
       "      <td>1</td>\n",
       "      <td>1</td>\n",
       "      <td>1</td>\n",
       "      <td>1</td>\n",
       "      <td>0</td>\n",
       "      <td>0</td>\n",
       "      <td>0</td>\n",
       "      <td>0</td>\n",
       "      <td>0</td>\n",
       "      <td>0</td>\n",
       "    </tr>\n",
       "    <tr>\n",
       "      <th>3</th>\n",
       "      <td>Corus</td>\n",
       "      <td>Corus’ kids networks each have their own ident...</td>\n",
       "      <td>Jennifer AbramsVP of Programming and Multiplat...</td>\n",
       "      <td>YTV: Kids 6 to 12, and co-viewing;\\rTeletoon: ...</td>\n",
       "      <td>For all pitches including original content, ac...</td>\n",
       "      <td>scriptedoriginals@corusent.com</td>\n",
       "      <td>Not Available</td>\n",
       "      <td>Not Available</td>\n",
       "      <td>0</td>\n",
       "      <td>0</td>\n",
       "      <td>...</td>\n",
       "      <td>1</td>\n",
       "      <td>1</td>\n",
       "      <td>1</td>\n",
       "      <td>1</td>\n",
       "      <td>1</td>\n",
       "      <td>0</td>\n",
       "      <td>0</td>\n",
       "      <td>0</td>\n",
       "      <td>0</td>\n",
       "      <td>0</td>\n",
       "    </tr>\n",
       "    <tr>\n",
       "      <th>4</th>\n",
       "      <td>De Agostini Editore</td>\n",
       "      <td>Like many other broadcasters, Massimo Bruno, t...</td>\n",
       "      <td>Massimo BrunoHead of TV channels</td>\n",
       "      <td>DeA Jr: preschool with a focus on family co-vi...</td>\n",
       "      <td>Producers looking to pitch any of De Agostini’...</td>\n",
       "      <td>Property development department: property.digi...</td>\n",
       "      <td>MagikiNew School</td>\n",
       "      <td>Boy Girl Dog Cat Mouse CheeseOggy and the Cock...</td>\n",
       "      <td>0</td>\n",
       "      <td>0</td>\n",
       "      <td>...</td>\n",
       "      <td>1</td>\n",
       "      <td>1</td>\n",
       "      <td>0</td>\n",
       "      <td>0</td>\n",
       "      <td>0</td>\n",
       "      <td>0</td>\n",
       "      <td>0</td>\n",
       "      <td>0</td>\n",
       "      <td>0</td>\n",
       "      <td>0</td>\n",
       "    </tr>\n",
       "  </tbody>\n",
       "</table>\n",
       "<p>5 rows × 43 columns</p>\n",
       "</div>"
      ],
      "text/plain": [
       "                              name  \\\n",
       "0        ABC Australia               \n",
       "1       Discovery Kids               \n",
       "2       Disney Channel               \n",
       "3                Corus               \n",
       "4  De Agostini Editore               \n",
       "\n",
       "                                         looking_for  \\\n",
       "0  ABC Australia is looking to entertain and insp...   \n",
       "1  Flavio Medeiros, director of programming and a...   \n",
       "2  Disney is on the lookout for content that fits...   \n",
       "3  Corus’ kids networks each have their own ident...   \n",
       "4  Like many other broadcasters, Massimo Bruno, t...   \n",
       "\n",
       "                                                team  \\\n",
       "0   Libbie DohertyHead of ABC's Children's Conten...   \n",
       "1                                      Not Available   \n",
       "2   Elizabeth Waybright TaylorDirector of Develop...   \n",
       "3  Jennifer AbramsVP of Programming and Multiplat...   \n",
       "4                  Massimo BrunoHead of TV channels    \n",
       "\n",
       "                                         demographic  \\\n",
       "0  ABC Kids (2- to 6-years-old)\\rABC ME (6 to 12s...   \n",
       "1                                            4 to 8    \n",
       "2      6 to 11 years old, with a skew towards girls    \n",
       "3  YTV: Kids 6 to 12, and co-viewing;\\rTeletoon: ...   \n",
       "4  DeA Jr: preschool with a focus on family co-vi...   \n",
       "\n",
       "                                        how_to_pitch  \\\n",
       "0  Producers with fully completed projects should...   \n",
       "1  Pitches with a show description can be emailed...   \n",
       "2  Disney TVA does not accept unsolicited materia...   \n",
       "3  For all pitches including original content, ac...   \n",
       "4  Producers looking to pitch any of De Agostini’...   \n",
       "\n",
       "                                             contact         commission  \\\n",
       "0  Children’s development and co-production manag...      Not Available   \n",
       "1                     Flavio_Medeiros@discovery.com       Not Available   \n",
       "2                                      Not Available      Not Available   \n",
       "3                    scriptedoriginals@corusent.com       Not Available   \n",
       "4  Property development department: property.digi...  MagikiNew School    \n",
       "\n",
       "                                 recent_acquisitions  Africa  Asia Pacific  \\\n",
       "0                                      Kiri and Lou        0             1   \n",
       "1              Boonie BearsEsme & RoySuper Dinosaur        0             0   \n",
       "2         Miraculous: Tales of Ladybug and Cat Noir        0             0   \n",
       "3                                      Not Available       0             0   \n",
       "4  Boy Girl Dog Cat Mouse CheeseOggy and the Cock...       0             0   \n",
       "\n",
       "   ...  8  9  10  11  12  13  14  15  16  17  \n",
       "0  ...  1  1   1   1   1   1   1   0   0   0  \n",
       "1  ...  1  0   0   0   0   0   0   0   0   0  \n",
       "2  ...  1  1   1   1   0   0   0   0   0   0  \n",
       "3  ...  1  1   1   1   1   0   0   0   0   0  \n",
       "4  ...  1  1   0   0   0   0   0   0   0   0  \n",
       "\n",
       "[5 rows x 43 columns]"
      ]
     },
     "execution_count": 13,
     "metadata": {},
     "output_type": "execute_result"
    }
   ],
   "source": [
    "dataframe1.head()"
   ]
  },
  {
   "cell_type": "code",
   "execution_count": 14,
   "metadata": {},
   "outputs": [
    {
     "data": {
      "text/html": [
       "<div>\n",
       "<style scoped>\n",
       "    .dataframe tbody tr th:only-of-type {\n",
       "        vertical-align: middle;\n",
       "    }\n",
       "\n",
       "    .dataframe tbody tr th {\n",
       "        vertical-align: top;\n",
       "    }\n",
       "\n",
       "    .dataframe thead th {\n",
       "        text-align: right;\n",
       "    }\n",
       "</style>\n",
       "<table border=\"1\" class=\"dataframe\">\n",
       "  <thead>\n",
       "    <tr style=\"text-align: right;\">\n",
       "      <th></th>\n",
       "      <th>name</th>\n",
       "      <th>looking_for</th>\n",
       "      <th>team</th>\n",
       "      <th>demographic</th>\n",
       "      <th>recent_acquisitions</th>\n",
       "    </tr>\n",
       "  </thead>\n",
       "  <tbody>\n",
       "    <tr>\n",
       "      <th>0</th>\n",
       "      <td>ABC Australia</td>\n",
       "      <td>ABC Australia is looking to entertain and insp...</td>\n",
       "      <td>Libbie DohertyHead of ABC's Children's Conten...</td>\n",
       "      <td>ABC Kids (2- to 6-years-old)\\rABC ME (6 to 12s...</td>\n",
       "      <td>Kiri and Lou</td>\n",
       "    </tr>\n",
       "    <tr>\n",
       "      <th>1</th>\n",
       "      <td>Discovery Kids</td>\n",
       "      <td>Flavio Medeiros, director of programming and a...</td>\n",
       "      <td>Not Available</td>\n",
       "      <td>4 to 8</td>\n",
       "      <td>Boonie BearsEsme &amp; RoySuper Dinosaur</td>\n",
       "    </tr>\n",
       "    <tr>\n",
       "      <th>2</th>\n",
       "      <td>Disney Channel</td>\n",
       "      <td>Disney is on the lookout for content that fits...</td>\n",
       "      <td>Elizabeth Waybright TaylorDirector of Develop...</td>\n",
       "      <td>6 to 11 years old, with a skew towards girls</td>\n",
       "      <td>Miraculous: Tales of Ladybug and Cat Noir</td>\n",
       "    </tr>\n",
       "    <tr>\n",
       "      <th>3</th>\n",
       "      <td>Corus</td>\n",
       "      <td>Corus’ kids networks each have their own ident...</td>\n",
       "      <td>Jennifer AbramsVP of Programming and Multiplat...</td>\n",
       "      <td>YTV: Kids 6 to 12, and co-viewing;\\rTeletoon: ...</td>\n",
       "      <td>Not Available</td>\n",
       "    </tr>\n",
       "    <tr>\n",
       "      <th>4</th>\n",
       "      <td>De Agostini Editore</td>\n",
       "      <td>Like many other broadcasters, Massimo Bruno, t...</td>\n",
       "      <td>Massimo BrunoHead of TV channels</td>\n",
       "      <td>DeA Jr: preschool with a focus on family co-vi...</td>\n",
       "      <td>Boy Girl Dog Cat Mouse CheeseOggy and the Cock...</td>\n",
       "    </tr>\n",
       "  </tbody>\n",
       "</table>\n",
       "</div>"
      ],
      "text/plain": [
       "                              name  \\\n",
       "0        ABC Australia               \n",
       "1       Discovery Kids               \n",
       "2       Disney Channel               \n",
       "3                Corus               \n",
       "4  De Agostini Editore               \n",
       "\n",
       "                                         looking_for  \\\n",
       "0  ABC Australia is looking to entertain and insp...   \n",
       "1  Flavio Medeiros, director of programming and a...   \n",
       "2  Disney is on the lookout for content that fits...   \n",
       "3  Corus’ kids networks each have their own ident...   \n",
       "4  Like many other broadcasters, Massimo Bruno, t...   \n",
       "\n",
       "                                                team  \\\n",
       "0   Libbie DohertyHead of ABC's Children's Conten...   \n",
       "1                                      Not Available   \n",
       "2   Elizabeth Waybright TaylorDirector of Develop...   \n",
       "3  Jennifer AbramsVP of Programming and Multiplat...   \n",
       "4                  Massimo BrunoHead of TV channels    \n",
       "\n",
       "                                         demographic  \\\n",
       "0  ABC Kids (2- to 6-years-old)\\rABC ME (6 to 12s...   \n",
       "1                                            4 to 8    \n",
       "2      6 to 11 years old, with a skew towards girls    \n",
       "3  YTV: Kids 6 to 12, and co-viewing;\\rTeletoon: ...   \n",
       "4  DeA Jr: preschool with a focus on family co-vi...   \n",
       "\n",
       "                                 recent_acquisitions  \n",
       "0                                      Kiri and Lou   \n",
       "1              Boonie BearsEsme & RoySuper Dinosaur   \n",
       "2         Miraculous: Tales of Ladybug and Cat Noir   \n",
       "3                                      Not Available  \n",
       "4  Boy Girl Dog Cat Mouse CheeseOggy and the Cock...  "
      ]
     },
     "execution_count": 14,
     "metadata": {},
     "output_type": "execute_result"
    }
   ],
   "source": [
    "# Create dataframe with certain features\n",
    "keyword_df = dataframe1[['name','looking_for','team','demographic','recent_acquisitions']]\n",
    "keyword_df.head()"
   ]
  },
  {
   "cell_type": "markdown",
   "metadata": {},
   "source": [
    "## Feed csv file into KeyBERT"
   ]
  },
  {
   "cell_type": "markdown",
   "metadata": {},
   "source": [
    "TO DO:\n",
    "1. Set up extraction for \n",
    "    - `looking_for`\n",
    "    - `team`\n",
    "    - `demographic`\n",
    "    - `how_to_pitch`\n",
    "2. Create new dataframe from keywords used\n",
    "3. ?"
   ]
  },
  {
   "cell_type": "code",
   "execution_count": 15,
   "metadata": {},
   "outputs": [
    {
     "data": {
      "text/plain": [
       "[('australian children', 0.43),\n",
       " ('rich australian', 0.4257),\n",
       " ('abc kids', 0.3829),\n",
       " ('australian producer', 0.3804),\n",
       " ('comedy preschool', 0.3724),\n",
       " ('million australian', 0.3569),\n",
       " ('abc children', 0.3485),\n",
       " ('productions australia', 0.3435),\n",
       " ('australia needs', 0.3423),\n",
       " ('abc australia', 0.3385)]"
      ]
     },
     "execution_count": 15,
     "metadata": {},
     "output_type": "execute_result"
    }
   ],
   "source": [
    "kw_model = KeyBERT('distilbert-base-nli-mean-tokens')\n",
    "keywords = kw_model.extract_keywords(doc)\n",
    "kw_model.extract_keywords(doc,keyphrase_ngram_range=(1, 2),\n",
    "                          stop_words=[x for x in 'english'] + \\\n",
    "                          ['nickelodeon',\n",
    "                           '2021',\n",
    "                           '2019',\n",
    "                           'wildbrain'\n",
    "                          ], top_n=10, diversity=0.7)"
   ]
  },
  {
   "cell_type": "code",
   "execution_count": 16,
   "metadata": {},
   "outputs": [],
   "source": [
    "keywords = kw_model.extract_keywords(keyword_df)"
   ]
  },
  {
   "cell_type": "code",
   "execution_count": 17,
   "metadata": {},
   "outputs": [
    {
     "ename": "IndentationError",
     "evalue": "unexpected indent (<unknown>, line 2)",
     "output_type": "error",
     "traceback": [
      "Traceback \u001b[0;36m(most recent call last)\u001b[0m:\n",
      "  File \u001b[1;32m\"/opt/anaconda3/lib/python3.8/site-packages/IPython/core/interactiveshell.py\"\u001b[0m, line \u001b[1;32m3418\u001b[0m, in \u001b[1;35mrun_code\u001b[0m\n    exec(code_obj, self.user_global_ns, self.user_ns)\n",
      "  File \u001b[1;32m\"<ipython-input-17-459eea26a78d>\"\u001b[0m, line \u001b[1;32m1\u001b[0m, in \u001b[1;35m<module>\u001b[0m\n    get_ipython().run_cell_magic('time', '', \"#kw_model_bumper.extract_keywords(keyword_df, keyphrase_ngram_range=(3,3),stop_words='english',\\n                        use_mmr=True, diversity=0.7)\\n\")\n",
      "  File \u001b[1;32m\"/opt/anaconda3/lib/python3.8/site-packages/IPython/core/interactiveshell.py\"\u001b[0m, line \u001b[1;32m2382\u001b[0m, in \u001b[1;35mrun_cell_magic\u001b[0m\n    result = fn(*args, **kwargs)\n",
      "  File \u001b[1;32m\"<decorator-gen-54>\"\u001b[0m, line \u001b[1;32m2\u001b[0m, in \u001b[1;35mtime\u001b[0m\n",
      "  File \u001b[1;32m\"/opt/anaconda3/lib/python3.8/site-packages/IPython/core/magic.py\"\u001b[0m, line \u001b[1;32m187\u001b[0m, in \u001b[1;35m<lambda>\u001b[0m\n    call = lambda f, *a, **k: f(*a, **k)\n",
      "  File \u001b[1;32m\"/opt/anaconda3/lib/python3.8/site-packages/IPython/core/magics/execution.py\"\u001b[0m, line \u001b[1;32m1277\u001b[0m, in \u001b[1;35mtime\u001b[0m\n    expr_ast = self.shell.compile.ast_parse(expr)\n",
      "\u001b[0;36m  File \u001b[0;32m\"/opt/anaconda3/lib/python3.8/site-packages/IPython/core/compilerop.py\"\u001b[0;36m, line \u001b[0;32m101\u001b[0;36m, in \u001b[0;35mast_parse\u001b[0;36m\u001b[0m\n\u001b[0;31m    return compile(source, filename, symbol, self.flags | PyCF_ONLY_AST, 1)\u001b[0m\n",
      "\u001b[0;36m  File \u001b[0;32m\"<unknown>\"\u001b[0;36m, line \u001b[0;32m2\u001b[0m\n\u001b[0;31m    use_mmr=True, diversity=0.7)\u001b[0m\n\u001b[0m    ^\u001b[0m\n\u001b[0;31mIndentationError\u001b[0m\u001b[0;31m:\u001b[0m unexpected indent\n"
     ]
    }
   ],
   "source": [
    "%%time\n",
    "kw_model_bumper.extract_keywords(keyword_df, keyphrase_ngram_range=(1,1),stop_words='english',\n",
    "                        use_mmr=True, diversity=0.7)"
   ]
  },
  {
   "cell_type": "code",
   "execution_count": null,
   "metadata": {},
   "outputs": [],
   "source": []
  },
  {
   "cell_type": "code",
   "execution_count": null,
   "metadata": {},
   "outputs": [],
   "source": []
  },
  {
   "cell_type": "code",
   "execution_count": null,
   "metadata": {},
   "outputs": [],
   "source": []
  },
  {
   "cell_type": "code",
   "execution_count": null,
   "metadata": {},
   "outputs": [],
   "source": []
  },
  {
   "cell_type": "code",
   "execution_count": null,
   "metadata": {},
   "outputs": [],
   "source": []
  }
 ],
 "metadata": {
  "interpreter": {
   "hash": "dca0ade3e726a953b501b15e8e990130d2b7799f14cfd9f4271676035ebe5511"
  },
  "kernelspec": {
   "display_name": "Python 3",
   "language": "python",
   "name": "python3"
  },
  "language_info": {
   "codemirror_mode": {
    "name": "ipython",
    "version": 3
   },
   "file_extension": ".py",
   "mimetype": "text/x-python",
   "name": "python",
   "nbconvert_exporter": "python",
   "pygments_lexer": "ipython3",
   "version": "3.8.5"
  }
 },
 "nbformat": 4,
 "nbformat_minor": 4
}
