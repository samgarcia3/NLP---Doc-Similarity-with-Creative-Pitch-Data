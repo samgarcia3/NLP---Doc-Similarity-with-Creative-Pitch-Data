{
 "cells": [
  {
   "cell_type": "markdown",
   "metadata": {},
   "source": [
    "# Bumper - Cleaning and Text PreProcessing"
   ]
  },
  {
   "cell_type": "markdown",
   "metadata": {},
   "source": [
    "## **About**\n",
    "<br>\n",
    "\n",
    "**Kids Media Screener**\n",
    "With a one-page pitch bible, studios often spend on average 1-2 (days/weeks)? to identify potential platform buyers, contact and pitch their content to multiple platforms, and confirm the initial commitment if lucky. \n",
    "Much of the process is laborious, and great creative work often gets bogged down as a result. With our digital-first approach, studios can increase their efficiency by XX%.\n",
    "\n",
    "\n",
    "**How to Use**\n",
    "In this version, studios can define target age range, regions, and formats in order to navigate through a myriad of potential buyers. Once the target market is defined, \n",
    "all platform buyers that fit the description would be available through the drop-down menu. Select as many platforms as you like, where each selected platform would display their region, demographic, format, and keywords.\n",
    "Should you find a platform that you're interested in, check `Details` to find out exactly what the platform is looking for as well as the contact information.\n",
    "\n",
    "\n",
    "**Future Development**\n",
    "As for our next development, we will continue to expand on our algorithmic dictionary of keywords. Furthermore, we are also developing a Pitch Bible and Screenplay screener that scores your pitch, determining \n",
    "how acceptable or desired is the content through our AI model."
   ]
  },
  {
   "cell_type": "markdown",
   "metadata": {},
   "source": [
    "# So what problem are we trying to solve?\n",
    "# How will this benefit users?\n"
   ]
  },
  {
   "cell_type": "markdown",
   "metadata": {},
   "source": [
    "## Data Dictionary\n",
    "<br>\n",
    "\n",
    "- `Name` - Entertainment Company Name\n",
    "- `looking_for` - Short summarization provided by company for what kind of content they are looking to produce\n",
    "- `team` - Key Members and Executives at the media company\n",
    "- `demographic` - Age, Gender, Grade, etc. to determine what market the media companies are wanting to get into\n",
    "- `how_to_pitch` - Guidleines for pitching to a prospective media company.\n",
    "- `contact` - Email, Department, Phone Number, etc. ; media companies contact information \n",
    "- `commision` - type of compensation to expect?\n",
    "- `recent_acquistions` - \n",
    "- `Africa, Asia, ...` - Areas in which the media company operates\n"
   ]
  },
  {
   "cell_type": "markdown",
   "metadata": {},
   "source": [
    "# Things to take into consideration\n",
    "<br>\n",
    "\n",
    "1. **In the `looking_for` summary that is provided, there is often a snippet of information provided that states what the company is \"not looking for\". This can become problematic for keyword search.**\n",
    "\n",
    "    - `looking_for`:\n",
    "        - **Not Looking For** - i.e. Adina Pitt(VP, Content Acquistions @ Cartoon Network, US) states specifically in her `looking_for` profile \"No Live Action, Please\".\n",
    "        - **Not Looking For** - commercial messaging, condescending, negativity, violence, harmful body images, and stereotypes.]\n",
    "\n",
    "    >    **FIX**\n",
    "    >    - NLP sentiment analysis for positive and negative keywords\n",
    "    >    - \n",
    "<br>\n",
    "\n",
    "    \n",
    "2. **Demographics can be typed out in different ways:**\n",
    "    - `demographic`:\n",
    "        - **Age** - can be communicated in different ways. (i.e. 6+, 6 and up, six-plus, six+)\n",
    "       \n",
    "    >    **FIX**\n",
    "    >   - Convert all mentions of age to integers\n",
    "<br>\n",
    "\n",
    "\n",
    "3. **Preferred Approach can be stated in different ways:**\n",
    "    - `contact`:\n",
    "        - **Preferred Approach** - website links to a certain page\n",
    "        \n",
    "    >    **FIX**"
   ]
  },
  {
   "cell_type": "markdown",
   "metadata": {},
   "source": [
    "-------------------------------------------------------------------------------------------------------------------"
   ]
  },
  {
   "cell_type": "markdown",
   "metadata": {},
   "source": [
    "## Approach"
   ]
  },
  {
   "cell_type": "markdown",
   "metadata": {},
   "source": [
    "**Ideas & Algorithms**\n",
    "\n",
    "- **Document Similarity**\n",
    "- **Knowledge Based Systems**\n",
    "- **Semantic Similairty**\n",
    "- **Inference Engine**\n",
    "- **WordNet**"
   ]
  },
  {
   "cell_type": "markdown",
   "metadata": {},
   "source": [
    "## Preprocessing\n",
    "\n",
    "**Steps**\n",
    "1. Uppercase all text\n",
    "2. Tokenization\n",
    "3. Remove stop words\n",
    "4. Remove punctuation\n",
    "5. Lemmatization or Stemming\n",
    "6. Calculate intersection/union in 2 documents"
   ]
  },
  {
   "cell_type": "markdown",
   "metadata": {},
   "source": [
    "# DataFrame"
   ]
  },
  {
   "cell_type": "code",
   "execution_count": 1,
   "metadata": {},
   "outputs": [],
   "source": [
    "import pandas as pd\n",
    "import numpy as np\n",
    "import matplotlib.pyplot as plt\n",
    "import seaborn as sns"
   ]
  },
  {
   "cell_type": "code",
   "execution_count": 2,
   "metadata": {},
   "outputs": [
    {
     "data": {
      "text/html": [
       "<div>\n",
       "<style scoped>\n",
       "    .dataframe tbody tr th:only-of-type {\n",
       "        vertical-align: middle;\n",
       "    }\n",
       "\n",
       "    .dataframe tbody tr th {\n",
       "        vertical-align: top;\n",
       "    }\n",
       "\n",
       "    .dataframe thead th {\n",
       "        text-align: right;\n",
       "    }\n",
       "</style>\n",
       "<table border=\"1\" class=\"dataframe\">\n",
       "  <thead>\n",
       "    <tr style=\"text-align: right;\">\n",
       "      <th></th>\n",
       "      <th>name</th>\n",
       "      <th>looking_for</th>\n",
       "      <th>team</th>\n",
       "      <th>demographic</th>\n",
       "      <th>how_to_pitch</th>\n",
       "      <th>contact</th>\n",
       "      <th>commission</th>\n",
       "      <th>recent_acquisitions</th>\n",
       "      <th>Africa</th>\n",
       "      <th>Asia Pacific</th>\n",
       "      <th>...</th>\n",
       "      <th>8</th>\n",
       "      <th>9</th>\n",
       "      <th>10</th>\n",
       "      <th>11</th>\n",
       "      <th>12</th>\n",
       "      <th>13</th>\n",
       "      <th>14</th>\n",
       "      <th>15</th>\n",
       "      <th>16</th>\n",
       "      <th>17</th>\n",
       "    </tr>\n",
       "  </thead>\n",
       "  <tbody>\n",
       "    <tr>\n",
       "      <th>0</th>\n",
       "      <td>ABC Australia</td>\n",
       "      <td>ABC Australia is looking to entertain and insp...</td>\n",
       "      <td>Libbie DohertyHead of ABC's Children's Conten...</td>\n",
       "      <td>ABC Kids (2- to 6-years-old)\\rABC ME (6 to 12s...</td>\n",
       "      <td>Producers with fully completed projects should...</td>\n",
       "      <td>Children’s development and co-production manag...</td>\n",
       "      <td>Not Available</td>\n",
       "      <td>Kiri and Lou</td>\n",
       "      <td>0</td>\n",
       "      <td>1</td>\n",
       "      <td>...</td>\n",
       "      <td>1</td>\n",
       "      <td>1</td>\n",
       "      <td>1</td>\n",
       "      <td>1</td>\n",
       "      <td>1</td>\n",
       "      <td>1</td>\n",
       "      <td>1</td>\n",
       "      <td>0</td>\n",
       "      <td>0</td>\n",
       "      <td>0</td>\n",
       "    </tr>\n",
       "    <tr>\n",
       "      <th>1</th>\n",
       "      <td>Discovery Kids</td>\n",
       "      <td>Flavio Medeiros, director of programming and a...</td>\n",
       "      <td>Not Available</td>\n",
       "      <td>4 to 8</td>\n",
       "      <td>Pitches with a show description can be emailed...</td>\n",
       "      <td>Flavio_Medeiros@discovery.com</td>\n",
       "      <td>Not Available</td>\n",
       "      <td>Boonie BearsEsme &amp; RoySuper Dinosaur</td>\n",
       "      <td>0</td>\n",
       "      <td>0</td>\n",
       "      <td>...</td>\n",
       "      <td>1</td>\n",
       "      <td>0</td>\n",
       "      <td>0</td>\n",
       "      <td>0</td>\n",
       "      <td>0</td>\n",
       "      <td>0</td>\n",
       "      <td>0</td>\n",
       "      <td>0</td>\n",
       "      <td>0</td>\n",
       "      <td>0</td>\n",
       "    </tr>\n",
       "    <tr>\n",
       "      <th>2</th>\n",
       "      <td>Disney Channel</td>\n",
       "      <td>Disney is on the lookout for content that fits...</td>\n",
       "      <td>Elizabeth Waybright TaylorDirector of Develop...</td>\n",
       "      <td>6 to 11 years old, with a skew towards girls</td>\n",
       "      <td>Disney TVA does not accept unsolicited materia...</td>\n",
       "      <td>Not Available</td>\n",
       "      <td>Not Available</td>\n",
       "      <td>Miraculous: Tales of Ladybug and Cat Noir</td>\n",
       "      <td>0</td>\n",
       "      <td>0</td>\n",
       "      <td>...</td>\n",
       "      <td>1</td>\n",
       "      <td>1</td>\n",
       "      <td>1</td>\n",
       "      <td>1</td>\n",
       "      <td>0</td>\n",
       "      <td>0</td>\n",
       "      <td>0</td>\n",
       "      <td>0</td>\n",
       "      <td>0</td>\n",
       "      <td>0</td>\n",
       "    </tr>\n",
       "    <tr>\n",
       "      <th>3</th>\n",
       "      <td>Corus</td>\n",
       "      <td>Corus’ kids networks each have their own ident...</td>\n",
       "      <td>Jennifer AbramsVP of Programming and Multiplat...</td>\n",
       "      <td>YTV: Kids 6 to 12, and co-viewing;\\rTeletoon: ...</td>\n",
       "      <td>For all pitches including original content, ac...</td>\n",
       "      <td>scriptedoriginals@corusent.com</td>\n",
       "      <td>Not Available</td>\n",
       "      <td>Not Available</td>\n",
       "      <td>0</td>\n",
       "      <td>0</td>\n",
       "      <td>...</td>\n",
       "      <td>1</td>\n",
       "      <td>1</td>\n",
       "      <td>1</td>\n",
       "      <td>1</td>\n",
       "      <td>1</td>\n",
       "      <td>0</td>\n",
       "      <td>0</td>\n",
       "      <td>0</td>\n",
       "      <td>0</td>\n",
       "      <td>0</td>\n",
       "    </tr>\n",
       "    <tr>\n",
       "      <th>4</th>\n",
       "      <td>De Agostini Editore</td>\n",
       "      <td>Like many other broadcasters, Massimo Bruno, t...</td>\n",
       "      <td>Massimo BrunoHead of TV channels</td>\n",
       "      <td>DeA Jr: preschool with a focus on family co-vi...</td>\n",
       "      <td>Producers looking to pitch any of De Agostini’...</td>\n",
       "      <td>Property development department: property.digi...</td>\n",
       "      <td>MagikiNew School</td>\n",
       "      <td>Boy Girl Dog Cat Mouse CheeseOggy and the Cock...</td>\n",
       "      <td>0</td>\n",
       "      <td>0</td>\n",
       "      <td>...</td>\n",
       "      <td>1</td>\n",
       "      <td>1</td>\n",
       "      <td>0</td>\n",
       "      <td>0</td>\n",
       "      <td>0</td>\n",
       "      <td>0</td>\n",
       "      <td>0</td>\n",
       "      <td>0</td>\n",
       "      <td>0</td>\n",
       "      <td>0</td>\n",
       "    </tr>\n",
       "  </tbody>\n",
       "</table>\n",
       "<p>5 rows × 43 columns</p>\n",
       "</div>"
      ],
      "text/plain": [
       "                              name  \\\n",
       "0        ABC Australia               \n",
       "1       Discovery Kids               \n",
       "2       Disney Channel               \n",
       "3                Corus               \n",
       "4  De Agostini Editore               \n",
       "\n",
       "                                         looking_for  \\\n",
       "0  ABC Australia is looking to entertain and insp...   \n",
       "1  Flavio Medeiros, director of programming and a...   \n",
       "2  Disney is on the lookout for content that fits...   \n",
       "3  Corus’ kids networks each have their own ident...   \n",
       "4  Like many other broadcasters, Massimo Bruno, t...   \n",
       "\n",
       "                                                team  \\\n",
       "0   Libbie DohertyHead of ABC's Children's Conten...   \n",
       "1                                      Not Available   \n",
       "2   Elizabeth Waybright TaylorDirector of Develop...   \n",
       "3  Jennifer AbramsVP of Programming and Multiplat...   \n",
       "4                  Massimo BrunoHead of TV channels    \n",
       "\n",
       "                                         demographic  \\\n",
       "0  ABC Kids (2- to 6-years-old)\\rABC ME (6 to 12s...   \n",
       "1                                            4 to 8    \n",
       "2      6 to 11 years old, with a skew towards girls    \n",
       "3  YTV: Kids 6 to 12, and co-viewing;\\rTeletoon: ...   \n",
       "4  DeA Jr: preschool with a focus on family co-vi...   \n",
       "\n",
       "                                        how_to_pitch  \\\n",
       "0  Producers with fully completed projects should...   \n",
       "1  Pitches with a show description can be emailed...   \n",
       "2  Disney TVA does not accept unsolicited materia...   \n",
       "3  For all pitches including original content, ac...   \n",
       "4  Producers looking to pitch any of De Agostini’...   \n",
       "\n",
       "                                             contact         commission  \\\n",
       "0  Children’s development and co-production manag...      Not Available   \n",
       "1                     Flavio_Medeiros@discovery.com       Not Available   \n",
       "2                                      Not Available      Not Available   \n",
       "3                    scriptedoriginals@corusent.com       Not Available   \n",
       "4  Property development department: property.digi...  MagikiNew School    \n",
       "\n",
       "                                 recent_acquisitions  Africa  Asia Pacific  \\\n",
       "0                                      Kiri and Lou        0             1   \n",
       "1              Boonie BearsEsme & RoySuper Dinosaur        0             0   \n",
       "2         Miraculous: Tales of Ladybug and Cat Noir        0             0   \n",
       "3                                      Not Available       0             0   \n",
       "4  Boy Girl Dog Cat Mouse CheeseOggy and the Cock...       0             0   \n",
       "\n",
       "   ...  8  9  10  11  12  13  14  15  16  17  \n",
       "0  ...  1  1   1   1   1   1   1   0   0   0  \n",
       "1  ...  1  0   0   0   0   0   0   0   0   0  \n",
       "2  ...  1  1   1   1   0   0   0   0   0   0  \n",
       "3  ...  1  1   1   1   1   0   0   0   0   0  \n",
       "4  ...  1  1   0   0   0   0   0   0   0   0  \n",
       "\n",
       "[5 rows x 43 columns]"
      ]
     },
     "execution_count": 2,
     "metadata": {},
     "output_type": "execute_result"
    }
   ],
   "source": [
    "bumper_df = pd.read_csv('data/v2.csv')\n",
    "bumper_df.head()"
   ]
  },
  {
   "cell_type": "code",
   "execution_count": 3,
   "metadata": {},
   "outputs": [
    {
     "data": {
      "text/html": [
       "<div>\n",
       "<style scoped>\n",
       "    .dataframe tbody tr th:only-of-type {\n",
       "        vertical-align: middle;\n",
       "    }\n",
       "\n",
       "    .dataframe tbody tr th {\n",
       "        vertical-align: top;\n",
       "    }\n",
       "\n",
       "    .dataframe thead th {\n",
       "        text-align: right;\n",
       "    }\n",
       "</style>\n",
       "<table border=\"1\" class=\"dataframe\">\n",
       "  <thead>\n",
       "    <tr style=\"text-align: right;\">\n",
       "      <th></th>\n",
       "      <th>name</th>\n",
       "      <th>looking_for</th>\n",
       "      <th>team</th>\n",
       "      <th>demographic</th>\n",
       "      <th>how_to_pitch</th>\n",
       "      <th>contact</th>\n",
       "      <th>commission</th>\n",
       "      <th>recent_acquisitions</th>\n",
       "      <th>Africa</th>\n",
       "      <th>Asia Pacific</th>\n",
       "      <th>...</th>\n",
       "      <th>8</th>\n",
       "      <th>9</th>\n",
       "      <th>10</th>\n",
       "      <th>11</th>\n",
       "      <th>12</th>\n",
       "      <th>13</th>\n",
       "      <th>14</th>\n",
       "      <th>15</th>\n",
       "      <th>16</th>\n",
       "      <th>17</th>\n",
       "    </tr>\n",
       "  </thead>\n",
       "  <tbody>\n",
       "    <tr>\n",
       "      <th>37</th>\n",
       "      <td>Nat Geo Kids</td>\n",
       "      <td>Nat Geo Kids has typically stuck to publishing...</td>\n",
       "      <td>Geoff DanielsEVP of Unscripted Entertainment</td>\n",
       "      <td>6 to 12</td>\n",
       "      <td>Not Available</td>\n",
       "      <td>Not Available</td>\n",
       "      <td>Explorer AcademyWeird But True</td>\n",
       "      <td>Not Available</td>\n",
       "      <td>0</td>\n",
       "      <td>0</td>\n",
       "      <td>...</td>\n",
       "      <td>1</td>\n",
       "      <td>1</td>\n",
       "      <td>1</td>\n",
       "      <td>1</td>\n",
       "      <td>1</td>\n",
       "      <td>0</td>\n",
       "      <td>0</td>\n",
       "      <td>0</td>\n",
       "      <td>0</td>\n",
       "      <td>0</td>\n",
       "    </tr>\n",
       "    <tr>\n",
       "      <th>38</th>\n",
       "      <td>WildBrain Television</td>\n",
       "      <td>Looking to grow its co-viewing audience, WildB...</td>\n",
       "      <td>Not Available</td>\n",
       "      <td>Family Channel: kids 6 to 12, adults 18 to 49\\...</td>\n",
       "      <td>For people looking to pitch show ideas, VP of ...</td>\n",
       "      <td>VP of channels and curation Katie Wilson and p...</td>\n",
       "      <td>Malory TowersMy Perfect Landing</td>\n",
       "      <td>Get Out of My Room Heirs of the Night</td>\n",
       "      <td>0</td>\n",
       "      <td>0</td>\n",
       "      <td>...</td>\n",
       "      <td>1</td>\n",
       "      <td>1</td>\n",
       "      <td>1</td>\n",
       "      <td>1</td>\n",
       "      <td>1</td>\n",
       "      <td>0</td>\n",
       "      <td>0</td>\n",
       "      <td>0</td>\n",
       "      <td>0</td>\n",
       "      <td>0</td>\n",
       "    </tr>\n",
       "    <tr>\n",
       "      <th>39</th>\n",
       "      <td>WarnerMedia EMEA</td>\n",
       "      <td>Cecilia Persson’s current focus is on Boomeran...</td>\n",
       "      <td>Not Available</td>\n",
       "      <td>Boomerang focuses on a younger entry point, wh...</td>\n",
       "      <td>Not Available</td>\n",
       "      <td>Not Available</td>\n",
       "      <td>Not Available</td>\n",
       "      <td>Mush-Mush and the MushablesPower Players</td>\n",
       "      <td>1</td>\n",
       "      <td>0</td>\n",
       "      <td>...</td>\n",
       "      <td>1</td>\n",
       "      <td>1</td>\n",
       "      <td>1</td>\n",
       "      <td>1</td>\n",
       "      <td>1</td>\n",
       "      <td>0</td>\n",
       "      <td>0</td>\n",
       "      <td>0</td>\n",
       "      <td>0</td>\n",
       "      <td>0</td>\n",
       "    </tr>\n",
       "    <tr>\n",
       "      <th>40</th>\n",
       "      <td>YouTube Kids</td>\n",
       "      <td>YouTube might be known as a home for countless...</td>\n",
       "      <td>Not Available</td>\n",
       "      <td>Kids 3 to 8, segmented between preschoolers wh...</td>\n",
       "      <td>Zylstra prefers to see pitches at their earlie...</td>\n",
       "      <td>Nadine Zylstra: nzylstra@google.com\\r\\rCraig H...</td>\n",
       "      <td>BookTube Jr.Supa Strikas: Rookie SeasonThe Egg...</td>\n",
       "      <td>Not Available</td>\n",
       "      <td>0</td>\n",
       "      <td>0</td>\n",
       "      <td>...</td>\n",
       "      <td>1</td>\n",
       "      <td>1</td>\n",
       "      <td>1</td>\n",
       "      <td>0</td>\n",
       "      <td>0</td>\n",
       "      <td>0</td>\n",
       "      <td>0</td>\n",
       "      <td>0</td>\n",
       "      <td>0</td>\n",
       "      <td>0</td>\n",
       "    </tr>\n",
       "    <tr>\n",
       "      <th>41</th>\n",
       "      <td>YLE</td>\n",
       "      <td>For the younger set, YLE is seeking content fo...</td>\n",
       "      <td>Virve (Vicky) SchroderusExecutive in charge o...</td>\n",
       "      <td>Toddlers (ages 1 to 3), lower preschool (ages ...</td>\n",
       "      <td>Contact Schroderus through email or in person ...</td>\n",
       "      <td>Vicky Schroderus: virve.schroderus@yle.fi</td>\n",
       "      <td>Not Available</td>\n",
       "      <td>Mush-Mush and the MushablesTik Tak</td>\n",
       "      <td>0</td>\n",
       "      <td>0</td>\n",
       "      <td>...</td>\n",
       "      <td>1</td>\n",
       "      <td>1</td>\n",
       "      <td>1</td>\n",
       "      <td>1</td>\n",
       "      <td>1</td>\n",
       "      <td>0</td>\n",
       "      <td>0</td>\n",
       "      <td>0</td>\n",
       "      <td>0</td>\n",
       "      <td>0</td>\n",
       "    </tr>\n",
       "  </tbody>\n",
       "</table>\n",
       "<p>5 rows × 43 columns</p>\n",
       "</div>"
      ],
      "text/plain": [
       "                                name  \\\n",
       "37          Nat Geo Kids               \n",
       "38  WildBrain Television               \n",
       "39      WarnerMedia EMEA               \n",
       "40          YouTube Kids               \n",
       "41                   YLE               \n",
       "\n",
       "                                          looking_for  \\\n",
       "37  Nat Geo Kids has typically stuck to publishing...   \n",
       "38  Looking to grow its co-viewing audience, WildB...   \n",
       "39  Cecilia Persson’s current focus is on Boomeran...   \n",
       "40  YouTube might be known as a home for countless...   \n",
       "41  For the younger set, YLE is seeking content fo...   \n",
       "\n",
       "                                                 team  \\\n",
       "37      Geoff DanielsEVP of Unscripted Entertainment    \n",
       "38                                      Not Available   \n",
       "39                                      Not Available   \n",
       "40                                      Not Available   \n",
       "41   Virve (Vicky) SchroderusExecutive in charge o...   \n",
       "\n",
       "                                          demographic  \\\n",
       "37                                           6 to 12    \n",
       "38  Family Channel: kids 6 to 12, adults 18 to 49\\...   \n",
       "39  Boomerang focuses on a younger entry point, wh...   \n",
       "40  Kids 3 to 8, segmented between preschoolers wh...   \n",
       "41  Toddlers (ages 1 to 3), lower preschool (ages ...   \n",
       "\n",
       "                                         how_to_pitch  \\\n",
       "37                                      Not Available   \n",
       "38  For people looking to pitch show ideas, VP of ...   \n",
       "39                                      Not Available   \n",
       "40  Zylstra prefers to see pitches at their earlie...   \n",
       "41  Contact Schroderus through email or in person ...   \n",
       "\n",
       "                                              contact  \\\n",
       "37                                      Not Available   \n",
       "38  VP of channels and curation Katie Wilson and p...   \n",
       "39                                      Not Available   \n",
       "40  Nadine Zylstra: nzylstra@google.com\\r\\rCraig H...   \n",
       "41         Vicky Schroderus: virve.schroderus@yle.fi    \n",
       "\n",
       "                                           commission  \\\n",
       "37                    Explorer AcademyWeird But True    \n",
       "38                   Malory TowersMy Perfect Landing    \n",
       "39                                      Not Available   \n",
       "40  BookTube Jr.Supa Strikas: Rookie SeasonThe Egg...   \n",
       "41                                      Not Available   \n",
       "\n",
       "                          recent_acquisitions  Africa  Asia Pacific  ...  8  \\\n",
       "37                              Not Available       0             0  ...  1   \n",
       "38     Get Out of My Room Heirs of the Night        0             0  ...  1   \n",
       "39  Mush-Mush and the MushablesPower Players        1             0  ...  1   \n",
       "40                              Not Available       0             0  ...  1   \n",
       "41        Mush-Mush and the MushablesTik Tak        0             0  ...  1   \n",
       "\n",
       "    9  10  11  12  13  14  15  16  17  \n",
       "37  1   1   1   1   0   0   0   0   0  \n",
       "38  1   1   1   1   0   0   0   0   0  \n",
       "39  1   1   1   1   0   0   0   0   0  \n",
       "40  1   1   0   0   0   0   0   0   0  \n",
       "41  1   1   1   1   0   0   0   0   0  \n",
       "\n",
       "[5 rows x 43 columns]"
      ]
     },
     "execution_count": 3,
     "metadata": {},
     "output_type": "execute_result"
    }
   ],
   "source": [
    "bumper_df.tail()"
   ]
  },
  {
   "cell_type": "code",
   "execution_count": 4,
   "metadata": {},
   "outputs": [
    {
     "data": {
      "text/plain": [
       "(42, 43)"
      ]
     },
     "execution_count": 4,
     "metadata": {},
     "output_type": "execute_result"
    }
   ],
   "source": [
    "bumper_df.shape"
   ]
  },
  {
   "cell_type": "code",
   "execution_count": 5,
   "metadata": {},
   "outputs": [
    {
     "name": "stdout",
     "output_type": "stream",
     "text": [
      "<class 'pandas.core.frame.DataFrame'>\n",
      "RangeIndex: 1 entries, 0 to 0\n",
      "Data columns (total 43 columns):\n",
      " #   Column                        Non-Null Count  Dtype \n",
      "---  ------                        --------------  ----- \n",
      " 0   name                          1 non-null      object\n",
      " 1   looking_for                   1 non-null      object\n",
      " 2   team                          1 non-null      object\n",
      " 3   demographic                   1 non-null      object\n",
      " 4   how_to_pitch                  1 non-null      object\n",
      " 5   contact                       1 non-null      object\n",
      " 6   commission                    1 non-null      object\n",
      " 7   recent_acquisitions           1 non-null      object\n",
      " 8   Africa                        1 non-null      int64 \n",
      " 9   Asia Pacific                  1 non-null      int64 \n",
      " 10  Europe                        1 non-null      int64 \n",
      " 11  Global                        1 non-null      int64 \n",
      " 12  Middle East and North Africa  1 non-null      int64 \n",
      " 13  North America                 1 non-null      int64 \n",
      " 14  South America                 1 non-null      int64 \n",
      " 15  2D Animation                  1 non-null      int64 \n",
      " 16  3D Animation                  1 non-null      int64 \n",
      " 17  CG Animation                  1 non-null      int64 \n",
      " 18  Live Action                   1 non-null      int64 \n",
      " 19  Made for TV                   1 non-null      int64 \n",
      " 20  Mixed Media                   1 non-null      int64 \n",
      " 21  Scripted                      1 non-null      int64 \n",
      " 22  Shorts                        1 non-null      int64 \n",
      " 23  Specials                      1 non-null      int64 \n",
      " 24  Unscripted                    1 non-null      int64 \n",
      " 25  0                             1 non-null      int64 \n",
      " 26  1                             1 non-null      int64 \n",
      " 27  2                             1 non-null      int64 \n",
      " 28  3                             1 non-null      int64 \n",
      " 29  4                             1 non-null      int64 \n",
      " 30  5                             1 non-null      int64 \n",
      " 31  6                             1 non-null      int64 \n",
      " 32  7                             1 non-null      int64 \n",
      " 33  8                             1 non-null      int64 \n",
      " 34  9                             1 non-null      int64 \n",
      " 35  10                            1 non-null      int64 \n",
      " 36  11                            1 non-null      int64 \n",
      " 37  12                            1 non-null      int64 \n",
      " 38  13                            1 non-null      int64 \n",
      " 39  14                            1 non-null      int64 \n",
      " 40  15                            1 non-null      int64 \n",
      " 41  16                            1 non-null      int64 \n",
      " 42  17                            1 non-null      int64 \n",
      "dtypes: int64(35), object(8)\n",
      "memory usage: 472.0+ bytes\n"
     ]
    }
   ],
   "source": [
    "bumper_df.head(1).info()"
   ]
  },
  {
   "cell_type": "markdown",
   "metadata": {},
   "source": [
    "## Column Values"
   ]
  },
  {
   "cell_type": "markdown",
   "metadata": {},
   "source": [
    "**Looking For**"
   ]
  },
  {
   "cell_type": "code",
   "execution_count": 6,
   "metadata": {},
   "outputs": [
    {
     "data": {
      "text/plain": [
       "array(['ABC Australia is looking to entertain and inspire the 4.4 million Australian children between two and 14 through a mixed genre output of light entertainment, drama, comedy, preschool and factual, says head of children’s content Libbie Doherty. \\r\\rABC spans across free channels ABC Kids (two- to six-years-old) and ABC ME (six to 12s) and the VOD platform ABC iview, which carries the broadcaster’s linear content, as well as exclusive kids content commissioned specifically for iview.\\r\\rDoherty primarily develops content from Australian independent producers, and commissions to international producers are rare—but occasionally deals will occur when an Australian producer is involved. For co-productions, Australia needs to be represented in the production, if not also the story.\\r\\rThe broadcaster’s catalogue should reflect the diverse and rich Australian identity, and help guide kids through the big and small transitions of childhood, she says. It should also connect city and regional kids to each other and empower children to speak up and participate within their communities.\\r\\rABC is looking for content that fits six criteria: It should be bold, brave and takes creative risks; it should always take an inclusive lens, giving children content that they can see themselves in because it creates a sense of belonging in an expanding national identity; it should make the audience laugh and remember to have fun; it should focus on accuracy while pushing the boundaries of stories and topics and balancing trust and risk; it should experiment with new formats and approaches to content development; and it should feature diversity in front of and behind the camera, with a focus on under-represented groups from culturally and linguistically diverse groups, Indigenous and disabled communities, as well as building on the broadcaster’s 50/50 female cast and crew targets. In short, the pubcasters wants shows with kind, big-hearted characters and epic locations, which also helps kids explore, investigate and make sense of the world around them.\\r\\rThis may seem like a very open content purview, but the pubcaster has focused on building out its catalogue with inclusive content, including Epic Film’s live-action series First Day (four x 24-minutes), about the transgender character Hannah as she copes with high school and transitioning into becoming a girl. One of the first children’s series to explicitly follow the life of a transgender youth, First Day provides a clearer picture of the type of content the broadcaster is looking for, Doherty says. \\r\\rOn top of this, ABC is working to push the boundaries beyond typical protagonists, and picked up Paper Owl Films’ animated series Pablo, which revolves around a five-year-old boy on the autism spectrum who uses magical crayons to start adventures with the characters he creates. The channel has also filled its catalogue with a variety of content across styles, including animated educational-focused series, including international preschool-skewing titles Daniel Tiger’s Neighbourhood, The Day Henry Met... and Bing, mixed-media series Becca’s Bunch, Dino Dana and live-action shows Molly and Mack and Detention Adventure. \\r\\rABC children’s content is meant to build a life-long connection to the bigger brand, and as a result, content for younger audiences needs to be crafted with an age-appropriate pace and style, says Doherty. To reach a broader audience, Doherty is seeking content that features a range of production techniques, including factual, drama, live-action, puppets, songs and animation, which balances learning with entertainment. Productions for iview should experiment with storytelling and length, since they do not need to be constrained by traditional broadcast schedules, she adds.  '],\n",
       "      dtype=object)"
      ]
     },
     "execution_count": 6,
     "metadata": {},
     "output_type": "execute_result"
    }
   ],
   "source": [
    "bumper_df['looking_for'].head(1).values"
   ]
  },
  {
   "cell_type": "markdown",
   "metadata": {},
   "source": [
    "**Team**"
   ]
  },
  {
   "cell_type": "code",
   "execution_count": 7,
   "metadata": {},
   "outputs": [
    {
     "data": {
      "text/plain": [
       "array([\" Libbie DohertyHead of ABC's Children's Content   Amanda IsdaleDevelopment and Co-Production Manager  \",\n",
       "       'Not Available',\n",
       "       ' Elizabeth Waybright TaylorDirector of Development, Disney Television Animation  Emily HartSVP, Development ',\n",
       "       'Jennifer AbramsVP of Programming and Multiplatform  Candida ZelayaManager of Kids Programming ',\n",
       "       ' Massimo BrunoHead of TV channels '], dtype=object)"
      ]
     },
     "execution_count": 7,
     "metadata": {},
     "output_type": "execute_result"
    }
   ],
   "source": [
    "bumper_df['team'].head().values"
   ]
  },
  {
   "cell_type": "markdown",
   "metadata": {},
   "source": [
    "**Demographic**"
   ]
  },
  {
   "cell_type": "code",
   "execution_count": 8,
   "metadata": {},
   "outputs": [
    {
     "data": {
      "text/plain": [
       "array(['ABC Kids (2- to 6-years-old)\\rABC ME (6 to 12s)\\r ', '4 to 8 ',\n",
       "       '6 to 11 years old, with a skew towards girls ',\n",
       "       'YTV: Kids 6 to 12, and co-viewing;\\rTeletoon: 6 to 11s; \\rTreehouse: Preschoolers ',\n",
       "       'DeA Jr: preschool with a focus on family co-viewing;\\rDeA Kids: 6- to 9-year-olds '],\n",
       "      dtype=object)"
      ]
     },
     "execution_count": 8,
     "metadata": {},
     "output_type": "execute_result"
    }
   ],
   "source": [
    "bumper_df['demographic'].head().values"
   ]
  },
  {
   "cell_type": "markdown",
   "metadata": {},
   "source": [
    "**How to Pitch**"
   ]
  },
  {
   "cell_type": "code",
   "execution_count": 9,
   "metadata": {},
   "outputs": [
    {
     "data": {
      "text/plain": [
       "array(['Producers with fully completed projects should email the acquisitions team at acquisitions@abc.net.au. All submissions should include contact details, the title and duration title and duration of the content per episode and season, year of production, brief synopsis, a short bio of the producer/writer/director, and details on any award nominations or film festival selections. \\r\\rCo-commissions/co-productions need to have Australian and international producers or parties attached. All proposals should be submitted to children’s development and co-production manager Amanda Isdale via isdale.amanda@abc.net.au. \\r\\rABC does not have a prescribed format for submissions, but prefers pitches that are two to four pages long. Development proposals should include the project’s title, contact info, target audience, format, genre and brief synopsis. Producers can direct general questions to submissions.childrens@abc.net.au ',\n",
       "       'Pitches with a show description can be emailed directly to Flavio_Medeiros@discovery.com ',\n",
       "       'Disney TVA does not accept unsolicited materials. Please submit materials through a franchised agent or a recognized entertainment attorney to: Disney Channels Worldwide, 3800 West Alameda Avenue, Suite, 1632, Burbank, CA 91505.\\r ',\n",
       "       'For all pitches including original content, acquisitions, or co-productions, Corus accept submissions through e-mail (scriptedoriginals@corusent.com) or in-person. Materials can vary from one-sheet concepts to fully produced demos — whatever best communicates the producer’spassion and original vision. ',\n",
       "       'Producers looking to pitch any of De Agostini’s kids channels should submit a project outline complete with a synopsis, plot and details of the main characters to the acquisitions and property development department.  '],\n",
       "      dtype=object)"
      ]
     },
     "execution_count": 9,
     "metadata": {},
     "output_type": "execute_result"
    }
   ],
   "source": [
    "bumper_df['how_to_pitch'].head().values"
   ]
  },
  {
   "cell_type": "markdown",
   "metadata": {},
   "source": [
    "**Contact**"
   ]
  },
  {
   "cell_type": "code",
   "execution_count": 10,
   "metadata": {},
   "outputs": [
    {
     "data": {
      "text/plain": [
       "array(['Children’s development and co-production manager Amanda Isdale via isdale.amanda@abc.net.au\\r ',\n",
       "       'Flavio_Medeiros@discovery.com ', 'Not Available',\n",
       "       'scriptedoriginals@corusent.com ',\n",
       "       'Property development department: property.digital@deagostini.it\\r '],\n",
       "      dtype=object)"
      ]
     },
     "execution_count": 10,
     "metadata": {},
     "output_type": "execute_result"
    }
   ],
   "source": [
    "bumper_df['contact'].head().values"
   ]
  },
  {
   "cell_type": "markdown",
   "metadata": {},
   "source": [
    "-------------------------------------------------------------------------------------------------------------------"
   ]
  },
  {
   "cell_type": "markdown",
   "metadata": {},
   "source": [
    "# **TEXT PRE PROCESSING - TEST**"
   ]
  },
  {
   "cell_type": "markdown",
   "metadata": {},
   "source": [
    "Testing the first example text from `looking_for` to find the best text preprocessing solution."
   ]
  },
  {
   "cell_type": "markdown",
   "metadata": {},
   "source": [
    "Enable Example Text"
   ]
  },
  {
   "cell_type": "code",
   "execution_count": 11,
   "metadata": {},
   "outputs": [],
   "source": [
    "example_text = \"\"\"\n",
    "'ABC Australia is looking to entertain and inspire the 4.4 million Australian children between two and 14 through a mixed genre output of light entertainment, drama, comedy, preschool and factual, says head of children’s content Libbie Doherty. \\r\\rABC spans across free channels ABC Kids (two- to six-years-old) and ABC ME (six to 12s) and the VOD platform ABC iview, which carries the broadcaster’s linear content, as well as exclusive kids content commissioned specifically for iview.\\r\\rDoherty primarily develops content from Australian independent producers, and commissions to international producers are rare—but occasionally deals will occur when an Australian producer is involved. For co-productions, Australia needs to be represented in the production, if not also the story.\\r\\rThe broadcaster’s catalogue should reflect the diverse and rich Australian identity, and help guide kids through the big and small transitions of childhood, she says. It should also connect city and regional kids to each other and empower children to speak up and participate within their communities.\\r\\rABC is looking for content that fits six criteria: It should be bold, brave and takes creative risks; it should always take an inclusive lens, giving children content that they can see themselves in because it creates a sense of belonging in an expanding national identity; it should make the audience laugh and remember to have fun; it should focus on accuracy while pushing the boundaries of stories and topics and balancing trust and risk; it should experiment with new formats and approaches to content development; and it should feature diversity in front of and behind the camera, with a focus on under-represented groups from culturally and linguistically diverse groups, Indigenous and disabled communities, as well as building on the broadcaster’s 50/50 female cast and crew targets. In short, the pubcasters wants shows with kind, big-hearted characters and epic locations, which also helps kids explore, investigate and make sense of the world around them.\\r\\rThis may seem like a very open content purview, but the pubcaster has focused on building out its catalogue with inclusive content, including Epic Film’s live-action series First Day (four x 24-minutes), about the transgender character Hannah as she copes with high school and transitioning into becoming a girl. One of the first children’s series to explicitly follow the life of a transgender youth, First Day provides a clearer picture of the type of content the broadcaster is looking for, Doherty says. \\r\\rOn top of this, ABC is working to push the boundaries beyond typical protagonists, and picked up Paper Owl Films’ animated series Pablo, which revolves around a five-year-old boy on the autism spectrum who uses magical crayons to start adventures with the characters he creates. The channel has also filled its catalogue with a variety of content across styles, including animated educational-focused series, including international preschool-skewing titles Daniel Tiger’s Neighbourhood, The Day Henry Met... and Bing, mixed-media series Becca’s Bunch, Dino Dana and live-action shows Molly and Mack and Detention Adventure. \\r\\rABC children’s content is meant to build a life-long connection to the bigger brand, and as a result, content for younger audiences needs to be crafted with an age-appropriate pace and style, says Doherty. To reach a broader audience, Doherty is seeking content that features a range of production techniques, including factual, drama, live-action, puppets, songs and animation, which balances learning with entertainment. Productions for iview should experiment with storytelling and length, since they do not need to be constrained by traditional broadcast schedules, she adds.  '\n",
    "\"\"\""
   ]
  },
  {
   "cell_type": "markdown",
   "metadata": {},
   "source": [
    "**1. NLTK Tokenization**"
   ]
  },
  {
   "cell_type": "code",
   "execution_count": 12,
   "metadata": {},
   "outputs": [
    {
     "data": {
      "text/plain": [
       "'Tokenized words: [\"\\'ABC\", \\'Australia\\', \\'is\\', \\'looking\\', \\'to\\', \\'entertain\\', \\'and\\', \\'inspire\\', \\'the\\', \\'4.4\\', \\'million\\', \\'Australian\\', \\'children\\', \\'between\\', \\'two\\', \\'and\\', \\'14\\', \\'through\\', \\'a\\', \\'mixed\\', \\'genre\\', \\'output\\', \\'of\\', \\'light\\', \\'entertainment\\', \\',\\', \\'drama\\', \\',\\', \\'comedy\\', \\',\\', \\'preschool\\', \\'and\\', \\'factual\\', \\',\\', \\'says\\', \\'head\\', \\'of\\', \\'children\\', \\'’\\', \\'s\\', \\'content\\', \\'Libbie\\', \\'Doherty\\', \\'.\\', \\'ABC\\', \\'spans\\', \\'across\\', \\'free\\', \\'channels\\', \\'ABC\\', \\'Kids\\', \\'(\\', \\'two-\\', \\'to\\', \\'six-years-old\\', \\')\\', \\'and\\', \\'ABC\\', \\'ME\\', \\'(\\', \\'six\\', \\'to\\', \\'12s\\', \\')\\', \\'and\\', \\'the\\', \\'VOD\\', \\'platform\\', \\'ABC\\', \\'iview\\', \\',\\', \\'which\\', \\'carries\\', \\'the\\', \\'broadcaster\\', \\'’\\', \\'s\\', \\'linear\\', \\'content\\', \\',\\', \\'as\\', \\'well\\', \\'as\\', \\'exclusive\\', \\'kids\\', \\'content\\', \\'commissioned\\', \\'specifically\\', \\'for\\', \\'iview\\', \\'.\\', \\'Doherty\\', \\'primarily\\', \\'develops\\', \\'content\\', \\'from\\', \\'Australian\\', \\'independent\\', \\'producers\\', \\',\\', \\'and\\', \\'commissions\\', \\'to\\', \\'international\\', \\'producers\\', \\'are\\', \\'rare—but\\', \\'occasionally\\', \\'deals\\', \\'will\\', \\'occur\\', \\'when\\', \\'an\\', \\'Australian\\', \\'producer\\', \\'is\\', \\'involved\\', \\'.\\', \\'For\\', \\'co-productions\\', \\',\\', \\'Australia\\', \\'needs\\', \\'to\\', \\'be\\', \\'represented\\', \\'in\\', \\'the\\', \\'production\\', \\',\\', \\'if\\', \\'not\\', \\'also\\', \\'the\\', \\'story\\', \\'.\\', \\'The\\', \\'broadcaster\\', \\'’\\', \\'s\\', \\'catalogue\\', \\'should\\', \\'reflect\\', \\'the\\', \\'diverse\\', \\'and\\', \\'rich\\', \\'Australian\\', \\'identity\\', \\',\\', \\'and\\', \\'help\\', \\'guide\\', \\'kids\\', \\'through\\', \\'the\\', \\'big\\', \\'and\\', \\'small\\', \\'transitions\\', \\'of\\', \\'childhood\\', \\',\\', \\'she\\', \\'says\\', \\'.\\', \\'It\\', \\'should\\', \\'also\\', \\'connect\\', \\'city\\', \\'and\\', \\'regional\\', \\'kids\\', \\'to\\', \\'each\\', \\'other\\', \\'and\\', \\'empower\\', \\'children\\', \\'to\\', \\'speak\\', \\'up\\', \\'and\\', \\'participate\\', \\'within\\', \\'their\\', \\'communities\\', \\'.\\', \\'ABC\\', \\'is\\', \\'looking\\', \\'for\\', \\'content\\', \\'that\\', \\'fits\\', \\'six\\', \\'criteria\\', \\':\\', \\'It\\', \\'should\\', \\'be\\', \\'bold\\', \\',\\', \\'brave\\', \\'and\\', \\'takes\\', \\'creative\\', \\'risks\\', \\';\\', \\'it\\', \\'should\\', \\'always\\', \\'take\\', \\'an\\', \\'inclusive\\', \\'lens\\', \\',\\', \\'giving\\', \\'children\\', \\'content\\', \\'that\\', \\'they\\', \\'can\\', \\'see\\', \\'themselves\\', \\'in\\', \\'because\\', \\'it\\', \\'creates\\', \\'a\\', \\'sense\\', \\'of\\', \\'belonging\\', \\'in\\', \\'an\\', \\'expanding\\', \\'national\\', \\'identity\\', \\';\\', \\'it\\', \\'should\\', \\'make\\', \\'the\\', \\'audience\\', \\'laugh\\', \\'and\\', \\'remember\\', \\'to\\', \\'have\\', \\'fun\\', \\';\\', \\'it\\', \\'should\\', \\'focus\\', \\'on\\', \\'accuracy\\', \\'while\\', \\'pushing\\', \\'the\\', \\'boundaries\\', \\'of\\', \\'stories\\', \\'and\\', \\'topics\\', \\'and\\', \\'balancing\\', \\'trust\\', \\'and\\', \\'risk\\', \\';\\', \\'it\\', \\'should\\', \\'experiment\\', \\'with\\', \\'new\\', \\'formats\\', \\'and\\', \\'approaches\\', \\'to\\', \\'content\\', \\'development\\', \\';\\', \\'and\\', \\'it\\', \\'should\\', \\'feature\\', \\'diversity\\', \\'in\\', \\'front\\', \\'of\\', \\'and\\', \\'behind\\', \\'the\\', \\'camera\\', \\',\\', \\'with\\', \\'a\\', \\'focus\\', \\'on\\', \\'under-represented\\', \\'groups\\', \\'from\\', \\'culturally\\', \\'and\\', \\'linguistically\\', \\'diverse\\', \\'groups\\', \\',\\', \\'Indigenous\\', \\'and\\', \\'disabled\\', \\'communities\\', \\',\\', \\'as\\', \\'well\\', \\'as\\', \\'building\\', \\'on\\', \\'the\\', \\'broadcaster\\', \\'’\\', \\'s\\', \\'50/50\\', \\'female\\', \\'cast\\', \\'and\\', \\'crew\\', \\'targets\\', \\'.\\', \\'In\\', \\'short\\', \\',\\', \\'the\\', \\'pubcasters\\', \\'wants\\', \\'shows\\', \\'with\\', \\'kind\\', \\',\\', \\'big-hearted\\', \\'characters\\', \\'and\\', \\'epic\\', \\'locations\\', \\',\\', \\'which\\', \\'also\\', \\'helps\\', \\'kids\\', \\'explore\\', \\',\\', \\'investigate\\', \\'and\\', \\'make\\', \\'sense\\', \\'of\\', \\'the\\', \\'world\\', \\'around\\', \\'them\\', \\'.\\', \\'This\\', \\'may\\', \\'seem\\', \\'like\\', \\'a\\', \\'very\\', \\'open\\', \\'content\\', \\'purview\\', \\',\\', \\'but\\', \\'the\\', \\'pubcaster\\', \\'has\\', \\'focused\\', \\'on\\', \\'building\\', \\'out\\', \\'its\\', \\'catalogue\\', \\'with\\', \\'inclusive\\', \\'content\\', \\',\\', \\'including\\', \\'Epic\\', \\'Film\\', \\'’\\', \\'s\\', \\'live-action\\', \\'series\\', \\'First\\', \\'Day\\', \\'(\\', \\'four\\', \\'x\\', \\'24-minutes\\', \\')\\', \\',\\', \\'about\\', \\'the\\', \\'transgender\\', \\'character\\', \\'Hannah\\', \\'as\\', \\'she\\', \\'copes\\', \\'with\\', \\'high\\', \\'school\\', \\'and\\', \\'transitioning\\', \\'into\\', \\'becoming\\', \\'a\\', \\'girl\\', \\'.\\', \\'One\\', \\'of\\', \\'the\\', \\'first\\', \\'children\\', \\'’\\', \\'s\\', \\'series\\', \\'to\\', \\'explicitly\\', \\'follow\\', \\'the\\', \\'life\\', \\'of\\', \\'a\\', \\'transgender\\', \\'youth\\', \\',\\', \\'First\\', \\'Day\\', \\'provides\\', \\'a\\', \\'clearer\\', \\'picture\\', \\'of\\', \\'the\\', \\'type\\', \\'of\\', \\'content\\', \\'the\\', \\'broadcaster\\', \\'is\\', \\'looking\\', \\'for\\', \\',\\', \\'Doherty\\', \\'says\\', \\'.\\', \\'On\\', \\'top\\', \\'of\\', \\'this\\', \\',\\', \\'ABC\\', \\'is\\', \\'working\\', \\'to\\', \\'push\\', \\'the\\', \\'boundaries\\', \\'beyond\\', \\'typical\\', \\'protagonists\\', \\',\\', \\'and\\', \\'picked\\', \\'up\\', \\'Paper\\', \\'Owl\\', \\'Films\\', \\'’\\', \\'animated\\', \\'series\\', \\'Pablo\\', \\',\\', \\'which\\', \\'revolves\\', \\'around\\', \\'a\\', \\'five-year-old\\', \\'boy\\', \\'on\\', \\'the\\', \\'autism\\', \\'spectrum\\', \\'who\\', \\'uses\\', \\'magical\\', \\'crayons\\', \\'to\\', \\'start\\', \\'adventures\\', \\'with\\', \\'the\\', \\'characters\\', \\'he\\', \\'creates\\', \\'.\\', \\'The\\', \\'channel\\', \\'has\\', \\'also\\', \\'filled\\', \\'its\\', \\'catalogue\\', \\'with\\', \\'a\\', \\'variety\\', \\'of\\', \\'content\\', \\'across\\', \\'styles\\', \\',\\', \\'including\\', \\'animated\\', \\'educational-focused\\', \\'series\\', \\',\\', \\'including\\', \\'international\\', \\'preschool-skewing\\', \\'titles\\', \\'Daniel\\', \\'Tiger\\', \\'’\\', \\'s\\', \\'Neighbourhood\\', \\',\\', \\'The\\', \\'Day\\', \\'Henry\\', \\'Met\\', \\'...\\', \\'and\\', \\'Bing\\', \\',\\', \\'mixed-media\\', \\'series\\', \\'Becca\\', \\'’\\', \\'s\\', \\'Bunch\\', \\',\\', \\'Dino\\', \\'Dana\\', \\'and\\', \\'live-action\\', \\'shows\\', \\'Molly\\', \\'and\\', \\'Mack\\', \\'and\\', \\'Detention\\', \\'Adventure\\', \\'.\\', \\'ABC\\', \\'children\\', \\'’\\', \\'s\\', \\'content\\', \\'is\\', \\'meant\\', \\'to\\', \\'build\\', \\'a\\', \\'life-long\\', \\'connection\\', \\'to\\', \\'the\\', \\'bigger\\', \\'brand\\', \\',\\', \\'and\\', \\'as\\', \\'a\\', \\'result\\', \\',\\', \\'content\\', \\'for\\', \\'younger\\', \\'audiences\\', \\'needs\\', \\'to\\', \\'be\\', \\'crafted\\', \\'with\\', \\'an\\', \\'age-appropriate\\', \\'pace\\', \\'and\\', \\'style\\', \\',\\', \\'says\\', \\'Doherty\\', \\'.\\', \\'To\\', \\'reach\\', \\'a\\', \\'broader\\', \\'audience\\', \\',\\', \\'Doherty\\', \\'is\\', \\'seeking\\', \\'content\\', \\'that\\', \\'features\\', \\'a\\', \\'range\\', \\'of\\', \\'production\\', \\'techniques\\', \\',\\', \\'including\\', \\'factual\\', \\',\\', \\'drama\\', \\',\\', \\'live-action\\', \\',\\', \\'puppets\\', \\',\\', \\'songs\\', \\'and\\', \\'animation\\', \\',\\', \\'which\\', \\'balances\\', \\'learning\\', \\'with\\', \\'entertainment\\', \\'.\\', \\'Productions\\', \\'for\\', \\'iview\\', \\'should\\', \\'experiment\\', \\'with\\', \\'storytelling\\', \\'and\\', \\'length\\', \\',\\', \\'since\\', \\'they\\', \\'do\\', \\'not\\', \\'need\\', \\'to\\', \\'be\\', \\'constrained\\', \\'by\\', \\'traditional\\', \\'broadcast\\', \\'schedules\\', \\',\\', \\'she\\', \\'adds\\', \\'.\\', \"\\'\"]'"
      ]
     },
     "metadata": {},
     "output_type": "display_data"
    }
   ],
   "source": [
    "from nltk.tokenize import sent_tokenize, word_tokenize\n",
    "\n",
    "nltk_words = word_tokenize(example_text)\n",
    "display(f\"Tokenized words: {nltk_words}\")"
   ]
  },
  {
   "cell_type": "markdown",
   "metadata": {},
   "source": [
    "**2. spaCy Tokenization**"
   ]
  },
  {
   "cell_type": "code",
   "execution_count": 13,
   "metadata": {},
   "outputs": [
    {
     "data": {
      "text/plain": [
       "'Tokenized words: [\\'\\\\n\\', \"\\'\", \\'ABC\\', \\'Australia\\', \\'is\\', \\'looking\\', \\'to\\', \\'entertain\\', \\'and\\', \\'inspire\\', \\'the\\', \\'4.4\\', \\'million\\', \\'Australian\\', \\'children\\', \\'between\\', \\'two\\', \\'and\\', \\'14\\', \\'through\\', \\'a\\', \\'mixed\\', \\'genre\\', \\'output\\', \\'of\\', \\'light\\', \\'entertainment\\', \\',\\', \\'drama\\', \\',\\', \\'comedy\\', \\',\\', \\'preschool\\', \\'and\\', \\'factual\\', \\',\\', \\'says\\', \\'head\\', \\'of\\', \\'children\\', \\'’s\\', \\'content\\', \\'Libbie\\', \\'Doherty\\', \\'.\\', \\'\\\\r\\\\r\\', \\'ABC\\', \\'spans\\', \\'across\\', \\'free\\', \\'channels\\', \\'ABC\\', \\'Kids\\', \\'(\\', \\'two-\\', \\'to\\', \\'six\\', \\'-\\', \\'years\\', \\'-\\', \\'old\\', \\')\\', \\'and\\', \\'ABC\\', \\'ME\\', \\'(\\', \\'six\\', \\'to\\', \\'12s\\', \\')\\', \\'and\\', \\'the\\', \\'VOD\\', \\'platform\\', \\'ABC\\', \\'iview\\', \\',\\', \\'which\\', \\'carries\\', \\'the\\', \\'broadcaster\\', \\'’s\\', \\'linear\\', \\'content\\', \\',\\', \\'as\\', \\'well\\', \\'as\\', \\'exclusive\\', \\'kids\\', \\'content\\', \\'commissioned\\', \\'specifically\\', \\'for\\', \\'iview\\', \\'.\\', \\'\\\\r\\\\r\\', \\'Doherty\\', \\'primarily\\', \\'develops\\', \\'content\\', \\'from\\', \\'Australian\\', \\'independent\\', \\'producers\\', \\',\\', \\'and\\', \\'commissions\\', \\'to\\', \\'international\\', \\'producers\\', \\'are\\', \\'rare\\', \\'—\\', \\'but\\', \\'occasionally\\', \\'deals\\', \\'will\\', \\'occur\\', \\'when\\', \\'an\\', \\'Australian\\', \\'producer\\', \\'is\\', \\'involved\\', \\'.\\', \\'For\\', \\'co\\', \\'-\\', \\'productions\\', \\',\\', \\'Australia\\', \\'needs\\', \\'to\\', \\'be\\', \\'represented\\', \\'in\\', \\'the\\', \\'production\\', \\',\\', \\'if\\', \\'not\\', \\'also\\', \\'the\\', \\'story\\', \\'.\\', \\'\\\\r\\\\r\\', \\'The\\', \\'broadcaster\\', \\'’s\\', \\'catalogue\\', \\'should\\', \\'reflect\\', \\'the\\', \\'diverse\\', \\'and\\', \\'rich\\', \\'Australian\\', \\'identity\\', \\',\\', \\'and\\', \\'help\\', \\'guide\\', \\'kids\\', \\'through\\', \\'the\\', \\'big\\', \\'and\\', \\'small\\', \\'transitions\\', \\'of\\', \\'childhood\\', \\',\\', \\'she\\', \\'says\\', \\'.\\', \\'It\\', \\'should\\', \\'also\\', \\'connect\\', \\'city\\', \\'and\\', \\'regional\\', \\'kids\\', \\'to\\', \\'each\\', \\'other\\', \\'and\\', \\'empower\\', \\'children\\', \\'to\\', \\'speak\\', \\'up\\', \\'and\\', \\'participate\\', \\'within\\', \\'their\\', \\'communities\\', \\'.\\', \\'\\\\r\\\\r\\', \\'ABC\\', \\'is\\', \\'looking\\', \\'for\\', \\'content\\', \\'that\\', \\'fits\\', \\'six\\', \\'criteria\\', \\':\\', \\'It\\', \\'should\\', \\'be\\', \\'bold\\', \\',\\', \\'brave\\', \\'and\\', \\'takes\\', \\'creative\\', \\'risks\\', \\';\\', \\'it\\', \\'should\\', \\'always\\', \\'take\\', \\'an\\', \\'inclusive\\', \\'lens\\', \\',\\', \\'giving\\', \\'children\\', \\'content\\', \\'that\\', \\'they\\', \\'can\\', \\'see\\', \\'themselves\\', \\'in\\', \\'because\\', \\'it\\', \\'creates\\', \\'a\\', \\'sense\\', \\'of\\', \\'belonging\\', \\'in\\', \\'an\\', \\'expanding\\', \\'national\\', \\'identity\\', \\';\\', \\'it\\', \\'should\\', \\'make\\', \\'the\\', \\'audience\\', \\'laugh\\', \\'and\\', \\'remember\\', \\'to\\', \\'have\\', \\'fun\\', \\';\\', \\'it\\', \\'should\\', \\'focus\\', \\'on\\', \\'accuracy\\', \\'while\\', \\'pushing\\', \\'the\\', \\'boundaries\\', \\'of\\', \\'stories\\', \\'and\\', \\'topics\\', \\'and\\', \\'balancing\\', \\'trust\\', \\'and\\', \\'risk\\', \\';\\', \\'it\\', \\'should\\', \\'experiment\\', \\'with\\', \\'new\\', \\'formats\\', \\'and\\', \\'approaches\\', \\'to\\', \\'content\\', \\'development\\', \\';\\', \\'and\\', \\'it\\', \\'should\\', \\'feature\\', \\'diversity\\', \\'in\\', \\'front\\', \\'of\\', \\'and\\', \\'behind\\', \\'the\\', \\'camera\\', \\',\\', \\'with\\', \\'a\\', \\'focus\\', \\'on\\', \\'under\\', \\'-\\', \\'represented\\', \\'groups\\', \\'from\\', \\'culturally\\', \\'and\\', \\'linguistically\\', \\'diverse\\', \\'groups\\', \\',\\', \\'Indigenous\\', \\'and\\', \\'disabled\\', \\'communities\\', \\',\\', \\'as\\', \\'well\\', \\'as\\', \\'building\\', \\'on\\', \\'the\\', \\'broadcaster\\', \\'’s\\', \\'50/50\\', \\'female\\', \\'cast\\', \\'and\\', \\'crew\\', \\'targets\\', \\'.\\', \\'In\\', \\'short\\', \\',\\', \\'the\\', \\'pubcasters\\', \\'wants\\', \\'shows\\', \\'with\\', \\'kind\\', \\',\\', \\'big\\', \\'-\\', \\'hearted\\', \\'characters\\', \\'and\\', \\'epic\\', \\'locations\\', \\',\\', \\'which\\', \\'also\\', \\'helps\\', \\'kids\\', \\'explore\\', \\',\\', \\'investigate\\', \\'and\\', \\'make\\', \\'sense\\', \\'of\\', \\'the\\', \\'world\\', \\'around\\', \\'them\\', \\'.\\', \\'\\\\r\\\\r\\', \\'This\\', \\'may\\', \\'seem\\', \\'like\\', \\'a\\', \\'very\\', \\'open\\', \\'content\\', \\'purview\\', \\',\\', \\'but\\', \\'the\\', \\'pubcaster\\', \\'has\\', \\'focused\\', \\'on\\', \\'building\\', \\'out\\', \\'its\\', \\'catalogue\\', \\'with\\', \\'inclusive\\', \\'content\\', \\',\\', \\'including\\', \\'Epic\\', \\'Film\\', \\'’s\\', \\'live\\', \\'-\\', \\'action\\', \\'series\\', \\'First\\', \\'Day\\', \\'(\\', \\'four\\', \\'x\\', \\'24\\', \\'-\\', \\'minutes\\', \\')\\', \\',\\', \\'about\\', \\'the\\', \\'transgender\\', \\'character\\', \\'Hannah\\', \\'as\\', \\'she\\', \\'copes\\', \\'with\\', \\'high\\', \\'school\\', \\'and\\', \\'transitioning\\', \\'into\\', \\'becoming\\', \\'a\\', \\'girl\\', \\'.\\', \\'One\\', \\'of\\', \\'the\\', \\'first\\', \\'children\\', \\'’s\\', \\'series\\', \\'to\\', \\'explicitly\\', \\'follow\\', \\'the\\', \\'life\\', \\'of\\', \\'a\\', \\'transgender\\', \\'youth\\', \\',\\', \\'First\\', \\'Day\\', \\'provides\\', \\'a\\', \\'clearer\\', \\'picture\\', \\'of\\', \\'the\\', \\'type\\', \\'of\\', \\'content\\', \\'the\\', \\'broadcaster\\', \\'is\\', \\'looking\\', \\'for\\', \\',\\', \\'Doherty\\', \\'says\\', \\'.\\', \\'\\\\r\\\\r\\', \\'On\\', \\'top\\', \\'of\\', \\'this\\', \\',\\', \\'ABC\\', \\'is\\', \\'working\\', \\'to\\', \\'push\\', \\'the\\', \\'boundaries\\', \\'beyond\\', \\'typical\\', \\'protagonists\\', \\',\\', \\'and\\', \\'picked\\', \\'up\\', \\'Paper\\', \\'Owl\\', \\'Films\\', \\'’\\', \\'animated\\', \\'series\\', \\'Pablo\\', \\',\\', \\'which\\', \\'revolves\\', \\'around\\', \\'a\\', \\'five\\', \\'-\\', \\'year\\', \\'-\\', \\'old\\', \\'boy\\', \\'on\\', \\'the\\', \\'autism\\', \\'spectrum\\', \\'who\\', \\'uses\\', \\'magical\\', \\'crayons\\', \\'to\\', \\'start\\', \\'adventures\\', \\'with\\', \\'the\\', \\'characters\\', \\'he\\', \\'creates\\', \\'.\\', \\'The\\', \\'channel\\', \\'has\\', \\'also\\', \\'filled\\', \\'its\\', \\'catalogue\\', \\'with\\', \\'a\\', \\'variety\\', \\'of\\', \\'content\\', \\'across\\', \\'styles\\', \\',\\', \\'including\\', \\'animated\\', \\'educational\\', \\'-\\', \\'focused\\', \\'series\\', \\',\\', \\'including\\', \\'international\\', \\'preschool\\', \\'-\\', \\'skewing\\', \\'titles\\', \\'Daniel\\', \\'Tiger\\', \\'’s\\', \\'Neighbourhood\\', \\',\\', \\'The\\', \\'Day\\', \\'Henry\\', \\'Met\\', \\'...\\', \\'and\\', \\'Bing\\', \\',\\', \\'mixed\\', \\'-\\', \\'media\\', \\'series\\', \\'Becca\\', \\'’s\\', \\'Bunch\\', \\',\\', \\'Dino\\', \\'Dana\\', \\'and\\', \\'live\\', \\'-\\', \\'action\\', \\'shows\\', \\'Molly\\', \\'and\\', \\'Mack\\', \\'and\\', \\'Detention\\', \\'Adventure\\', \\'.\\', \\'\\\\r\\\\r\\', \\'ABC\\', \\'children\\', \\'’s\\', \\'content\\', \\'is\\', \\'meant\\', \\'to\\', \\'build\\', \\'a\\', \\'life\\', \\'-\\', \\'long\\', \\'connection\\', \\'to\\', \\'the\\', \\'bigger\\', \\'brand\\', \\',\\', \\'and\\', \\'as\\', \\'a\\', \\'result\\', \\',\\', \\'content\\', \\'for\\', \\'younger\\', \\'audiences\\', \\'needs\\', \\'to\\', \\'be\\', \\'crafted\\', \\'with\\', \\'an\\', \\'age\\', \\'-\\', \\'appropriate\\', \\'pace\\', \\'and\\', \\'style\\', \\',\\', \\'says\\', \\'Doherty\\', \\'.\\', \\'To\\', \\'reach\\', \\'a\\', \\'broader\\', \\'audience\\', \\',\\', \\'Doherty\\', \\'is\\', \\'seeking\\', \\'content\\', \\'that\\', \\'features\\', \\'a\\', \\'range\\', \\'of\\', \\'production\\', \\'techniques\\', \\',\\', \\'including\\', \\'factual\\', \\',\\', \\'drama\\', \\',\\', \\'live\\', \\'-\\', \\'action\\', \\',\\', \\'puppets\\', \\',\\', \\'songs\\', \\'and\\', \\'animation\\', \\',\\', \\'which\\', \\'balances\\', \\'learning\\', \\'with\\', \\'entertainment\\', \\'.\\', \\'Productions\\', \\'for\\', \\'iview\\', \\'should\\', \\'experiment\\', \\'with\\', \\'storytelling\\', \\'and\\', \\'length\\', \\',\\', \\'since\\', \\'they\\', \\'do\\', \\'not\\', \\'need\\', \\'to\\', \\'be\\', \\'constrained\\', \\'by\\', \\'traditional\\', \\'broadcast\\', \\'schedules\\', \\',\\', \\'she\\', \\'adds\\', \\'.\\', \\' \\', \"\\'\", \\'\\\\n\\']'"
      ]
     },
     "metadata": {},
     "output_type": "display_data"
    }
   ],
   "source": [
    "import spacy\n",
    "import en_core_web_sm\n",
    "\n",
    "nlp = en_core_web_sm.load()\n",
    "\n",
    "doc = nlp(example_text)\n",
    "spacy_words = [token.text for token in doc]\n",
    "display(f\"Tokenized words: {spacy_words}\")"
   ]
  },
  {
   "cell_type": "markdown",
   "metadata": {},
   "source": [
    "## **Differences between NLTK and spaCy**"
   ]
  },
  {
   "cell_type": "markdown",
   "metadata": {},
   "source": [
    "In **spaCy** but not in **NLTK**"
   ]
  },
  {
   "cell_type": "code",
   "execution_count": 15,
   "metadata": {},
   "outputs": [
    {
     "data": {
      "text/plain": [
       "\"In spacy but not in nltk: {' ', 'hearted', 'age', 'minutes', 'years', 'under', '\\\\n', '—', 'rare', 'appropriate', 'skewing', '-', 'co', '’s', 'media', 'long', 'productions', 'educational', 'action', 'five', 'live', '\\\\r\\\\r', '24', 'old', 'year'}\""
      ]
     },
     "metadata": {},
     "output_type": "display_data"
    }
   ],
   "source": [
    "display(f\"In spacy but not in nltk: {set(spacy_words).difference(set(nltk_words))}\")"
   ]
  },
  {
   "cell_type": "markdown",
   "metadata": {},
   "source": [
    "In **NLTK** but not in **spaCy**"
   ]
  },
  {
   "cell_type": "code",
   "execution_count": 16,
   "metadata": {},
   "outputs": [
    {
     "data": {
      "text/plain": [
       "'In nltk but not in spacy: {\\'preschool-skewing\\', \\'24-minutes\\', \\'co-productions\\', \\'rare—but\\', \\'life-long\\', \\'s\\', \\'big-hearted\\', \"\\'ABC\", \\'under-represented\\', \\'mixed-media\\', \\'age-appropriate\\', \\'live-action\\', \\'educational-focused\\', \\'six-years-old\\', \\'five-year-old\\'}'"
      ]
     },
     "metadata": {},
     "output_type": "display_data"
    }
   ],
   "source": [
    "display(f\"In nltk but not in spacy: {set(nltk_words).difference(set(spacy_words))}\")"
   ]
  },
  {
   "cell_type": "markdown",
   "metadata": {},
   "source": [
    "### **Summary**"
   ]
  },
  {
   "cell_type": "markdown",
   "metadata": {},
   "source": []
  },
  {
   "cell_type": "markdown",
   "metadata": {},
   "source": [
    "## **Punctuation Removal**"
   ]
  },
  {
   "cell_type": "code",
   "execution_count": 18,
   "metadata": {},
   "outputs": [
    {
     "data": {
      "text/plain": [
       "'Punctuation symbols: !\"#$%&\\'()*+,-./:;<=>?@[\\\\]^_`{|}~'"
      ]
     },
     "metadata": {},
     "output_type": "display_data"
    }
   ],
   "source": [
    "import string\n",
    "\n",
    "display(f\"Punctuation symbols: {string.punctuation}\")"
   ]
  },
  {
   "cell_type": "code",
   "execution_count": 25,
   "metadata": {},
   "outputs": [],
   "source": [
    "text_with_punct = 'Producers with fully completed projects should email the acquisitions team at acquisitions@abc.net.au. All submissions should include contact details, the title and duration title and duration of the content per episode and season, year of production, brief synopsis, a short bio of the producer/writer/director, and details on any award nominations or film festival selections. \\r\\rCo-commissions/co-productions need to have Australian and international producers or parties attached. All proposals should be submitted to children’s development and co-production manager Amanda Isdale via isdale.amanda@abc.net.au. \\r\\rABC does not have a prescribed format for submissions, but prefers pitches that are two to four pages long. Development proposals should include the project’s title, contact info, target audience, format, genre and brief synopsis. Producers can direct general questions to submissions.childrens@abc.net.au '"
   ]
  },
  {
   "cell_type": "code",
   "execution_count": 26,
   "metadata": {},
   "outputs": [
    {
     "data": {
      "text/plain": [
       "'Text without punctuation: Producers with fully completed projects should email the acquisitions team at acquisitionsabcnetau All submissions should include contact details the title and duration title and duration of the content per episode and season year of production brief synopsis a short bio of the producerwriterdirector and details on any award nominations or film festival selections \\r\\rCocommissionscoproductions need to have Australian and international producers or parties attached All proposals should be submitted to children’s development and coproduction manager Amanda Isdale via isdaleamandaabcnetau \\r\\rABC does not have a prescribed format for submissions but prefers pitches that are two to four pages long Development proposals should include the project’s title contact info target audience format genre and brief synopsis Producers can direct general questions to submissionschildrensabcnetau '"
      ]
     },
     "metadata": {},
     "output_type": "display_data"
    }
   ],
   "source": [
    "text_without_punct = text_with_punct.translate(str.maketrans('', '', string.punctuation))\n",
    "display(f\"Text without punctuation: {text_without_punct}\")"
   ]
  },
  {
   "cell_type": "markdown",
   "metadata": {},
   "source": [
    "Hmmm...."
   ]
  },
  {
   "cell_type": "code",
   "execution_count": 27,
   "metadata": {},
   "outputs": [
    {
     "data": {
      "text/plain": [
       "\"Python based removal: ['Producers', 'with', 'fully', 'completed', 'projects', 'should', 'email', 'the', 'acquisitions', 'team', 'at', 'acquisitions@abc.net.au', 'All', 'submissions', 'should', 'include', 'contact', 'details', 'the', 'title', 'and', 'duration', 'title', 'and', 'duration', 'of', 'the', 'content', 'per', 'episode', 'and', 'season', 'year', 'of', 'production', 'brief', 'synopsis', 'a', 'short', 'bio', 'of', 'the', 'producer', 'writer', 'director', 'and', 'details', 'on', 'any', 'award', 'nominations', 'or', 'film', 'festival', 'selections', '\\\\r\\\\r', 'Co', 'commissions', 'co', 'productions', 'need', 'to', 'have', 'Australian', 'and', 'international', 'producers', 'or', 'parties', 'attached', 'All', 'proposals', 'should', 'be', 'submitted', 'to', 'children', '’s', 'development', 'and', 'co', 'production', 'manager', 'Amanda', 'Isdale', 'via', 'isdale.amanda@abc.net.au', '\\\\r\\\\r', 'ABC', 'does', 'not', 'have', 'a', 'prescribed', 'format', 'for', 'submissions', 'but', 'prefers', 'pitches', 'that', 'are', 'two', 'to', 'four', 'pages', 'long', 'Development', 'proposals', 'should', 'include', 'the', 'project', '’s', 'title', 'contact', 'info', 'target', 'audience', 'format', 'genre', 'and', 'brief', 'synopsis', 'Producers', 'can', 'direct', 'general', 'questions', 'to', 'submissions.childrens@abc.net.au']\""
      ]
     },
     "metadata": {},
     "output_type": "display_data"
    }
   ],
   "source": [
    "doc = nlp(text_with_punct)\n",
    "tokens = [t.text for t in doc]\n",
    "# python \n",
    "tokens_without_punct_python = [t for t in tokens if t not in string.punctuation]\n",
    "display(f\"Python based removal: {tokens_without_punct_python}\")"
   ]
  },
  {
   "cell_type": "code",
   "execution_count": 28,
   "metadata": {},
   "outputs": [
    {
     "data": {
      "text/plain": [
       "\"Spacy based removal: ['Producers', 'with', 'fully', 'completed', 'projects', 'should', 'email', 'the', 'acquisitions', 'team', 'at', 'acquisitions@abc.net.au', 'All', 'submissions', 'should', 'include', 'contact', 'details', 'the', 'title', 'and', 'duration', 'title', 'and', 'duration', 'of', 'the', 'content', 'per', 'episode', 'and', 'season', 'year', 'of', 'production', 'brief', 'synopsis', 'a', 'short', 'bio', 'of', 'the', 'producer', '/', 'writer', '/', 'director', 'and', 'details', 'on', 'any', 'award', 'nominations', 'or', 'film', 'festival', 'selections', '\\\\r\\\\r', 'Co', '-', 'commissions', '/', 'co', '-', 'productions', 'need', 'to', 'have', 'Australian', 'and', 'international', 'producers', 'or', 'parties', 'attached', 'All', 'proposals', 'should', 'be', 'submitted', 'to', 'children', '’s', 'development', 'and', 'co', '-', 'production', 'manager', 'Amanda', 'Isdale', 'via', 'isdale.amanda@abc.net.au', '\\\\r\\\\r', 'ABC', 'does', 'not', 'have', 'a', 'prescribed', 'format', 'for', 'submissions', 'but', 'prefers', 'pitches', 'that', 'are', 'two', 'to', 'four', 'pages', 'long', 'Development', 'proposals', 'should', 'include', 'the', 'project', '’s', 'title', 'contact', 'info', 'target', 'audience', 'format', 'genre', 'and', 'brief', 'synopsis', 'Producers', 'can', 'direct', 'general', 'questions', 'to', 'submissions.childrens@abc.net.au']\""
      ]
     },
     "metadata": {},
     "output_type": "display_data"
    }
   ],
   "source": [
    "doc = nlp(text_with_punct)\n",
    "tokens = [t.text for t in doc]\n",
    "# spaCy\n",
    "tokens_without_punct_spacy = [t.text for t in doc if t.pos_ != 'PUNCT']\n",
    "display(f\"Spacy based removal: {tokens_without_punct_spacy}\")"
   ]
  },
  {
   "cell_type": "markdown",
   "metadata": {},
   "source": [
    "### **Summary**\n",
    "**So what are the differences between the python based removal and spaCy based removal?**\n",
    "- ?"
   ]
  },
  {
   "cell_type": "markdown",
   "metadata": {},
   "source": [
    "## StopWords Removal"
   ]
  },
  {
   "cell_type": "code",
   "execution_count": 29,
   "metadata": {},
   "outputs": [],
   "source": [
    "text = \"\"\"\n",
    "'ABC Australia is looking to entertain and inspire the 4.4 million Australian children between two and 14 through a mixed genre output of light entertainment, drama, comedy, preschool and factual, says head of children’s content Libbie Doherty. \\r\\rABC spans across free channels ABC Kids (two- to six-years-old) and ABC ME (six to 12s) and the VOD platform ABC iview, which carries the broadcaster’s linear content, as well as exclusive kids content commissioned specifically for iview.\\r\\rDoherty primarily develops content from Australian independent producers, and commissions to international producers are rare—but occasionally deals will occur when an Australian producer is involved. For co-productions, Australia needs to be represented in the production, if not also the story.\\r\\rThe broadcaster’s catalogue should reflect the diverse and rich Australian identity, and help guide kids through the big and small transitions of childhood, she says. It should also connect city and regional kids to each other and empower children to speak up and participate within their communities.\\r\\rABC is looking for content that fits six criteria: It should be bold, brave and takes creative risks; it should always take an inclusive lens, giving children content that they can see themselves in because it creates a sense of belonging in an expanding national identity; it should make the audience laugh and remember to have fun; it should focus on accuracy while pushing the boundaries of stories and topics and balancing trust and risk; it should experiment with new formats and approaches to content development; and it should feature diversity in front of and behind the camera, with a focus on under-represented groups from culturally and linguistically diverse groups, Indigenous and disabled communities, as well as building on the broadcaster’s 50/50 female cast and crew targets. In short, the pubcasters wants shows with kind, big-hearted characters and epic locations, which also helps kids explore, investigate and make sense of the world around them.\\r\\rThis may seem like a very open content purview, but the pubcaster has focused on building out its catalogue with inclusive content, including Epic Film’s live-action series First Day (four x 24-minutes), about the transgender character Hannah as she copes with high school and transitioning into becoming a girl. One of the first children’s series to explicitly follow the life of a transgender youth, First Day provides a clearer picture of the type of content the broadcaster is looking for, Doherty says. \\r\\rOn top of this, ABC is working to push the boundaries beyond typical protagonists, and picked up Paper Owl Films’ animated series Pablo, which revolves around a five-year-old boy on the autism spectrum who uses magical crayons to start adventures with the characters he creates. The channel has also filled its catalogue with a variety of content across styles, including animated educational-focused series, including international preschool-skewing titles Daniel Tiger’s Neighbourhood, The Day Henry Met... and Bing, mixed-media series Becca’s Bunch, Dino Dana and live-action shows Molly and Mack and Detention Adventure. \\r\\rABC children’s content is meant to build a life-long connection to the bigger brand, and as a result, content for younger audiences needs to be crafted with an age-appropriate pace and style, says Doherty. To reach a broader audience, Doherty is seeking content that features a range of production techniques, including factual, drama, live-action, puppets, songs and animation, which balances learning with entertainment. Productions for iview should experiment with storytelling and length, since they do not need to be constrained by traditional broadcast schedules, she adds.  '\n",
    "\"\"\""
   ]
  },
  {
   "cell_type": "code",
   "execution_count": 30,
   "metadata": {},
   "outputs": [
    {
     "data": {
      "text/plain": [
       "'Spacy stop words count: 326'"
      ]
     },
     "metadata": {},
     "output_type": "display_data"
    }
   ],
   "source": [
    "spacy_stop_words = spacy.lang.en.stop_words.STOP_WORDS\n",
    "\n",
    "display(f\"Spacy stop words count: {len(spacy_stop_words)}\")"
   ]
  },
  {
   "cell_type": "code",
   "execution_count": 31,
   "metadata": {},
   "outputs": [
    {
     "data": {
      "text/plain": [
       "'Spacy text without stop words: [\\'\\\\n\\', \"\\'\", \\'ABC\\', \\'Australia\\', \\'looking\\', \\'entertain\\', \\'inspire\\', \\'4.4\\', \\'million\\', \\'Australian\\', \\'children\\', \\'14\\', \\'mixed\\', \\'genre\\', \\'output\\', \\'light\\', \\'entertainment\\', \\',\\', \\'drama\\', \\',\\', \\'comedy\\', \\',\\', \\'preschool\\', \\'factual\\', \\',\\', \\'says\\', \\'head\\', \\'children\\', \\'content\\', \\'Libbie\\', \\'Doherty\\', \\'.\\', \\'\\\\r\\\\r\\', \\'ABC\\', \\'spans\\', \\'free\\', \\'channels\\', \\'ABC\\', \\'Kids\\', \\'(\\', \\'two-\\', \\'-\\', \\'years\\', \\'-\\', \\'old\\', \\')\\', \\'ABC\\', \\'(\\', \\'12s\\', \\')\\', \\'VOD\\', \\'platform\\', \\'ABC\\', \\'iview\\', \\',\\', \\'carries\\', \\'broadcaster\\', \\'linear\\', \\'content\\', \\',\\', \\'exclusive\\', \\'kids\\', \\'content\\', \\'commissioned\\', \\'specifically\\', \\'iview\\', \\'.\\', \\'\\\\r\\\\r\\', \\'Doherty\\', \\'primarily\\', \\'develops\\', \\'content\\', \\'Australian\\', \\'independent\\', \\'producers\\', \\',\\', \\'commissions\\', \\'international\\', \\'producers\\', \\'rare\\', \\'—\\', \\'occasionally\\', \\'deals\\', \\'occur\\', \\'Australian\\', \\'producer\\', \\'involved\\', \\'.\\', \\'co\\', \\'-\\', \\'productions\\', \\',\\', \\'Australia\\', \\'needs\\', \\'represented\\', \\'production\\', \\',\\', \\'story\\', \\'.\\', \\'\\\\r\\\\r\\', \\'broadcaster\\', \\'catalogue\\', \\'reflect\\', \\'diverse\\', \\'rich\\', \\'Australian\\', \\'identity\\', \\',\\', \\'help\\', \\'guide\\', \\'kids\\', \\'big\\', \\'small\\', \\'transitions\\', \\'childhood\\', \\',\\', \\'says\\', \\'.\\', \\'connect\\', \\'city\\', \\'regional\\', \\'kids\\', \\'empower\\', \\'children\\', \\'speak\\', \\'participate\\', \\'communities\\', \\'.\\', \\'\\\\r\\\\r\\', \\'ABC\\', \\'looking\\', \\'content\\', \\'fits\\', \\'criteria\\', \\':\\', \\'bold\\', \\',\\', \\'brave\\', \\'takes\\', \\'creative\\', \\'risks\\', \\';\\', \\'inclusive\\', \\'lens\\', \\',\\', \\'giving\\', \\'children\\', \\'content\\', \\'creates\\', \\'sense\\', \\'belonging\\', \\'expanding\\', \\'national\\', \\'identity\\', \\';\\', \\'audience\\', \\'laugh\\', \\'remember\\', \\'fun\\', \\';\\', \\'focus\\', \\'accuracy\\', \\'pushing\\', \\'boundaries\\', \\'stories\\', \\'topics\\', \\'balancing\\', \\'trust\\', \\'risk\\', \\';\\', \\'experiment\\', \\'new\\', \\'formats\\', \\'approaches\\', \\'content\\', \\'development\\', \\';\\', \\'feature\\', \\'diversity\\', \\'camera\\', \\',\\', \\'focus\\', \\'-\\', \\'represented\\', \\'groups\\', \\'culturally\\', \\'linguistically\\', \\'diverse\\', \\'groups\\', \\',\\', \\'Indigenous\\', \\'disabled\\', \\'communities\\', \\',\\', \\'building\\', \\'broadcaster\\', \\'50/50\\', \\'female\\', \\'cast\\', \\'crew\\', \\'targets\\', \\'.\\', \\'short\\', \\',\\', \\'pubcasters\\', \\'wants\\', \\'shows\\', \\'kind\\', \\',\\', \\'big\\', \\'-\\', \\'hearted\\', \\'characters\\', \\'epic\\', \\'locations\\', \\',\\', \\'helps\\', \\'kids\\', \\'explore\\', \\',\\', \\'investigate\\', \\'sense\\', \\'world\\', \\'.\\', \\'\\\\r\\\\r\\', \\'like\\', \\'open\\', \\'content\\', \\'purview\\', \\',\\', \\'pubcaster\\', \\'focused\\', \\'building\\', \\'catalogue\\', \\'inclusive\\', \\'content\\', \\',\\', \\'including\\', \\'Epic\\', \\'Film\\', \\'live\\', \\'-\\', \\'action\\', \\'series\\', \\'Day\\', \\'(\\', \\'x\\', \\'24\\', \\'-\\', \\'minutes\\', \\')\\', \\',\\', \\'transgender\\', \\'character\\', \\'Hannah\\', \\'copes\\', \\'high\\', \\'school\\', \\'transitioning\\', \\'girl\\', \\'.\\', \\'children\\', \\'series\\', \\'explicitly\\', \\'follow\\', \\'life\\', \\'transgender\\', \\'youth\\', \\',\\', \\'Day\\', \\'provides\\', \\'clearer\\', \\'picture\\', \\'type\\', \\'content\\', \\'broadcaster\\', \\'looking\\', \\',\\', \\'Doherty\\', \\'says\\', \\'.\\', \\'\\\\r\\\\r\\', \\',\\', \\'ABC\\', \\'working\\', \\'push\\', \\'boundaries\\', \\'typical\\', \\'protagonists\\', \\',\\', \\'picked\\', \\'Paper\\', \\'Owl\\', \\'Films\\', \\'’\\', \\'animated\\', \\'series\\', \\'Pablo\\', \\',\\', \\'revolves\\', \\'-\\', \\'year\\', \\'-\\', \\'old\\', \\'boy\\', \\'autism\\', \\'spectrum\\', \\'uses\\', \\'magical\\', \\'crayons\\', \\'start\\', \\'adventures\\', \\'characters\\', \\'creates\\', \\'.\\', \\'channel\\', \\'filled\\', \\'catalogue\\', \\'variety\\', \\'content\\', \\'styles\\', \\',\\', \\'including\\', \\'animated\\', \\'educational\\', \\'-\\', \\'focused\\', \\'series\\', \\',\\', \\'including\\', \\'international\\', \\'preschool\\', \\'-\\', \\'skewing\\', \\'titles\\', \\'Daniel\\', \\'Tiger\\', \\'Neighbourhood\\', \\',\\', \\'Day\\', \\'Henry\\', \\'Met\\', \\'...\\', \\'Bing\\', \\',\\', \\'mixed\\', \\'-\\', \\'media\\', \\'series\\', \\'Becca\\', \\'Bunch\\', \\',\\', \\'Dino\\', \\'Dana\\', \\'live\\', \\'-\\', \\'action\\', \\'shows\\', \\'Molly\\', \\'Mack\\', \\'Detention\\', \\'Adventure\\', \\'.\\', \\'\\\\r\\\\r\\', \\'ABC\\', \\'children\\', \\'content\\', \\'meant\\', \\'build\\', \\'life\\', \\'-\\', \\'long\\', \\'connection\\', \\'bigger\\', \\'brand\\', \\',\\', \\'result\\', \\',\\', \\'content\\', \\'younger\\', \\'audiences\\', \\'needs\\', \\'crafted\\', \\'age\\', \\'-\\', \\'appropriate\\', \\'pace\\', \\'style\\', \\',\\', \\'says\\', \\'Doherty\\', \\'.\\', \\'reach\\', \\'broader\\', \\'audience\\', \\',\\', \\'Doherty\\', \\'seeking\\', \\'content\\', \\'features\\', \\'range\\', \\'production\\', \\'techniques\\', \\',\\', \\'including\\', \\'factual\\', \\',\\', \\'drama\\', \\',\\', \\'live\\', \\'-\\', \\'action\\', \\',\\', \\'puppets\\', \\',\\', \\'songs\\', \\'animation\\', \\',\\', \\'balances\\', \\'learning\\', \\'entertainment\\', \\'.\\', \\'Productions\\', \\'iview\\', \\'experiment\\', \\'storytelling\\', \\'length\\', \\',\\', \\'need\\', \\'constrained\\', \\'traditional\\', \\'broadcast\\', \\'schedules\\', \\',\\', \\'adds\\', \\'.\\', \\' \\', \"\\'\", \\'\\\\n\\']'"
      ]
     },
     "metadata": {},
     "output_type": "display_data"
    }
   ],
   "source": [
    "text_without_stop_words = [t.text for t in nlp(text) if not t.is_stop]\n",
    "display(f\"Spacy text without stop words: {text_without_stop_words}\")"
   ]
  },
  {
   "cell_type": "code",
   "execution_count": null,
   "metadata": {},
   "outputs": [],
   "source": []
  },
  {
   "cell_type": "markdown",
   "metadata": {},
   "source": [
    "# **1. Looking For**"
   ]
  },
  {
   "cell_type": "code",
   "execution_count": null,
   "metadata": {},
   "outputs": [],
   "source": []
  },
  {
   "cell_type": "code",
   "execution_count": null,
   "metadata": {},
   "outputs": [],
   "source": []
  },
  {
   "cell_type": "markdown",
   "metadata": {},
   "source": [
    "## Tokenization"
   ]
  },
  {
   "cell_type": "code",
   "execution_count": null,
   "metadata": {},
   "outputs": [],
   "source": []
  },
  {
   "cell_type": "code",
   "execution_count": null,
   "metadata": {},
   "outputs": [],
   "source": []
  },
  {
   "cell_type": "markdown",
   "metadata": {},
   "source": [
    "## Cleaning"
   ]
  },
  {
   "cell_type": "code",
   "execution_count": null,
   "metadata": {},
   "outputs": [],
   "source": []
  },
  {
   "cell_type": "code",
   "execution_count": null,
   "metadata": {},
   "outputs": [],
   "source": []
  },
  {
   "cell_type": "markdown",
   "metadata": {},
   "source": [
    "## Normalization"
   ]
  },
  {
   "cell_type": "code",
   "execution_count": null,
   "metadata": {},
   "outputs": [],
   "source": []
  },
  {
   "cell_type": "code",
   "execution_count": null,
   "metadata": {},
   "outputs": [],
   "source": []
  },
  {
   "cell_type": "markdown",
   "metadata": {},
   "source": [
    "## Lemmatization"
   ]
  },
  {
   "cell_type": "code",
   "execution_count": null,
   "metadata": {},
   "outputs": [],
   "source": []
  },
  {
   "cell_type": "markdown",
   "metadata": {},
   "source": [
    "## Stemming"
   ]
  },
  {
   "cell_type": "code",
   "execution_count": null,
   "metadata": {},
   "outputs": [],
   "source": []
  },
  {
   "cell_type": "code",
   "execution_count": null,
   "metadata": {},
   "outputs": [],
   "source": []
  },
  {
   "cell_type": "markdown",
   "metadata": {},
   "source": [
    "# **2. Team**"
   ]
  },
  {
   "cell_type": "code",
   "execution_count": null,
   "metadata": {},
   "outputs": [],
   "source": []
  },
  {
   "cell_type": "code",
   "execution_count": null,
   "metadata": {},
   "outputs": [],
   "source": []
  },
  {
   "cell_type": "markdown",
   "metadata": {},
   "source": [
    "# **3. Demographic**"
   ]
  },
  {
   "cell_type": "code",
   "execution_count": null,
   "metadata": {},
   "outputs": [],
   "source": []
  },
  {
   "cell_type": "code",
   "execution_count": null,
   "metadata": {},
   "outputs": [],
   "source": []
  },
  {
   "cell_type": "markdown",
   "metadata": {},
   "source": [
    "# **4. How To Pitch / Preferred Approach**"
   ]
  },
  {
   "cell_type": "code",
   "execution_count": null,
   "metadata": {},
   "outputs": [],
   "source": []
  },
  {
   "cell_type": "code",
   "execution_count": null,
   "metadata": {},
   "outputs": [],
   "source": []
  },
  {
   "cell_type": "markdown",
   "metadata": {},
   "source": [
    "# **5. Contact**"
   ]
  },
  {
   "cell_type": "code",
   "execution_count": null,
   "metadata": {},
   "outputs": [],
   "source": []
  },
  {
   "cell_type": "code",
   "execution_count": null,
   "metadata": {},
   "outputs": [],
   "source": []
  },
  {
   "cell_type": "markdown",
   "metadata": {},
   "source": [
    "# **6. Commission**"
   ]
  },
  {
   "cell_type": "code",
   "execution_count": null,
   "metadata": {},
   "outputs": [],
   "source": []
  },
  {
   "cell_type": "code",
   "execution_count": null,
   "metadata": {},
   "outputs": [],
   "source": []
  },
  {
   "cell_type": "markdown",
   "metadata": {},
   "source": [
    "# **7. Recent Acquisitions**"
   ]
  },
  {
   "cell_type": "code",
   "execution_count": null,
   "metadata": {},
   "outputs": [],
   "source": []
  },
  {
   "cell_type": "code",
   "execution_count": null,
   "metadata": {},
   "outputs": [],
   "source": []
  }
 ],
 "metadata": {
  "kernelspec": {
   "display_name": "Python 3.8.5 64-bit ('base': conda)",
   "language": "python",
   "name": "python385jvsc74a57bd0dca0ade3e726a953b501b15e8e990130d2b7799f14cfd9f4271676035ebe5511"
  },
  "language_info": {
   "codemirror_mode": {
    "name": "ipython",
    "version": 3
   },
   "file_extension": ".py",
   "mimetype": "text/x-python",
   "name": "python",
   "nbconvert_exporter": "python",
   "pygments_lexer": "ipython3",
   "version": "3.8.5"
  }
 },
 "nbformat": 4,
 "nbformat_minor": 4
}
